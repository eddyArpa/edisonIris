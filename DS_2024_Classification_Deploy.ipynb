{
  "cells": [
    {
      "cell_type": "code",
      "execution_count": 1,
      "metadata": {
        "id": "BXrNDjozwNvp"
      },
      "outputs": [],
      "source": [
        "import pandas as pd\n",
        "import numpy as np\n",
        "import tensorflow as tf\n",
        "from keras.models import Sequential\n",
        "from keras.layers import Dense\n",
        "from keras.optimizers import Adam\n",
        "from tensorflow.keras import utils\n",
        "from sklearn.preprocessing import LabelEncoder\n",
        "from sklearn.tree import DecisionTreeClassifier\n",
        "from sklearn.svm import SVC\n",
        "from sklearn.model_selection import train_test_split\n",
        "from sklearn.metrics import classification_report\n",
        "import warnings\n",
        "\n",
        "warnings.filterwarnings(\"ignore\")"
      ]
    },
    {
      "cell_type": "code",
      "execution_count": 2,
      "metadata": {
        "colab": {
          "base_uri": "https://localhost:8080/",
          "height": 206
        },
        "id": "jw8hpSGEtezL",
        "outputId": "8e2845a4-9c49-4420-fff4-026e7e8bc432"
      },
      "outputs": [
        {
          "data": {
            "text/html": [
              "<div>\n",
              "<style scoped>\n",
              "    .dataframe tbody tr th:only-of-type {\n",
              "        vertical-align: middle;\n",
              "    }\n",
              "\n",
              "    .dataframe tbody tr th {\n",
              "        vertical-align: top;\n",
              "    }\n",
              "\n",
              "    .dataframe thead th {\n",
              "        text-align: right;\n",
              "    }\n",
              "</style>\n",
              "<table border=\"1\" class=\"dataframe\">\n",
              "  <thead>\n",
              "    <tr style=\"text-align: right;\">\n",
              "      <th></th>\n",
              "      <th>sepal_length</th>\n",
              "      <th>sepal_width</th>\n",
              "      <th>petal_length</th>\n",
              "      <th>petal_width</th>\n",
              "      <th>species</th>\n",
              "    </tr>\n",
              "  </thead>\n",
              "  <tbody>\n",
              "    <tr>\n",
              "      <th>0</th>\n",
              "      <td>5.1</td>\n",
              "      <td>3.5</td>\n",
              "      <td>1.4</td>\n",
              "      <td>0.2</td>\n",
              "      <td>Iris-setosa</td>\n",
              "    </tr>\n",
              "    <tr>\n",
              "      <th>1</th>\n",
              "      <td>4.9</td>\n",
              "      <td>3.0</td>\n",
              "      <td>1.4</td>\n",
              "      <td>0.2</td>\n",
              "      <td>Iris-setosa</td>\n",
              "    </tr>\n",
              "    <tr>\n",
              "      <th>2</th>\n",
              "      <td>4.7</td>\n",
              "      <td>3.2</td>\n",
              "      <td>1.3</td>\n",
              "      <td>0.2</td>\n",
              "      <td>Iris-setosa</td>\n",
              "    </tr>\n",
              "    <tr>\n",
              "      <th>3</th>\n",
              "      <td>4.6</td>\n",
              "      <td>3.1</td>\n",
              "      <td>1.5</td>\n",
              "      <td>0.2</td>\n",
              "      <td>Iris-setosa</td>\n",
              "    </tr>\n",
              "    <tr>\n",
              "      <th>4</th>\n",
              "      <td>5.0</td>\n",
              "      <td>3.6</td>\n",
              "      <td>1.4</td>\n",
              "      <td>0.2</td>\n",
              "      <td>Iris-setosa</td>\n",
              "    </tr>\n",
              "  </tbody>\n",
              "</table>\n",
              "</div>"
            ],
            "text/plain": [
              "   sepal_length  sepal_width  petal_length  petal_width      species\n",
              "0           5.1          3.5           1.4          0.2  Iris-setosa\n",
              "1           4.9          3.0           1.4          0.2  Iris-setosa\n",
              "2           4.7          3.2           1.3          0.2  Iris-setosa\n",
              "3           4.6          3.1           1.5          0.2  Iris-setosa\n",
              "4           5.0          3.6           1.4          0.2  Iris-setosa"
            ]
          },
          "execution_count": 2,
          "metadata": {},
          "output_type": "execute_result"
        }
      ],
      "source": [
        "df = pd.read_csv(\"iris.data\", header=None, names=['sepal_length','sepal_width','petal_length','petal_width','species'])\n",
        "df.head()"
      ]
    },
    {
      "attachments": {},
      "cell_type": "markdown",
      "metadata": {
        "id": "RHdGf3uQ5lDu"
      },
      "source": [
        "# NN/MLP"
      ]
    },
    {
      "cell_type": "code",
      "execution_count": 3,
      "metadata": {
        "colab": {
          "base_uri": "https://localhost:8080/"
        },
        "id": "L-n0xDJdx2pn",
        "outputId": "14814d84-5cfb-46c2-82b7-ca8e5c3494f4"
      },
      "outputs": [
        {
          "data": {
            "text/plain": [
              "((150, 4), (150, 3))"
            ]
          },
          "execution_count": 3,
          "metadata": {},
          "output_type": "execute_result"
        }
      ],
      "source": [
        "X = df.values[:,:-1].astype(float)\n",
        "Y = pd.get_dummies(df, columns=[\"species\"], dtype=\"float\").iloc[:,-3:].values\n",
        "X.shape, Y.shape"
      ]
    },
    {
      "cell_type": "code",
      "execution_count": 4,
      "metadata": {
        "colab": {
          "base_uri": "https://localhost:8080/"
        },
        "id": "7MAUI068yV0B",
        "outputId": "d3b94895-e329-48d1-a1f5-941daad32467"
      },
      "outputs": [
        {
          "data": {
            "text/plain": [
              "(array([5.1, 3.5, 1.4, 0.2]), array([1., 0., 0.]))"
            ]
          },
          "execution_count": 4,
          "metadata": {},
          "output_type": "execute_result"
        }
      ],
      "source": [
        "X[0],Y[0]"
      ]
    },
    {
      "cell_type": "code",
      "execution_count": 5,
      "metadata": {
        "colab": {
          "base_uri": "https://localhost:8080/"
        },
        "id": "6Ks0gdLR0lL-",
        "outputId": "ec1a7bce-f317-4964-bfb2-e116f022cc75"
      },
      "outputs": [
        {
          "data": {
            "text/plain": [
              "((120, 4), (30, 4), (120, 3), (30, 3))"
            ]
          },
          "execution_count": 5,
          "metadata": {},
          "output_type": "execute_result"
        }
      ],
      "source": [
        "X_train, X_test, y_train, y_test = train_test_split(X, Y, test_size=0.2, random_state=42)\n",
        "X_train.shape, X_test.shape, y_train.shape, y_test.shape"
      ]
    },
    {
      "cell_type": "code",
      "execution_count": 6,
      "metadata": {
        "colab": {
          "base_uri": "https://localhost:8080/"
        },
        "id": "6il324SDBJrg",
        "outputId": "6e2a4fdf-9baf-4b36-9482-e42b4611fc17"
      },
      "outputs": [
        {
          "data": {
            "text/html": [
              "<pre style=\"white-space:pre;overflow-x:auto;line-height:normal;font-family:Menlo,'DejaVu Sans Mono',consolas,'Courier New',monospace\"><span style=\"font-weight: bold\">Model: \"sequential\"</span>\n",
              "</pre>\n"
            ],
            "text/plain": [
              "\u001b[1mModel: \"sequential\"\u001b[0m\n"
            ]
          },
          "metadata": {},
          "output_type": "display_data"
        },
        {
          "data": {
            "text/html": [
              "<pre style=\"white-space:pre;overflow-x:auto;line-height:normal;font-family:Menlo,'DejaVu Sans Mono',consolas,'Courier New',monospace\">┏━━━━━━━━━━━━━━━━━━━━━━━━━━━━━━━━━┳━━━━━━━━━━━━━━━━━━━━━━━━┳━━━━━━━━━━━━━━━┓\n",
              "┃<span style=\"font-weight: bold\"> Layer (type)                    </span>┃<span style=\"font-weight: bold\"> Output Shape           </span>┃<span style=\"font-weight: bold\">       Param # </span>┃\n",
              "┡━━━━━━━━━━━━━━━━━━━━━━━━━━━━━━━━━╇━━━━━━━━━━━━━━━━━━━━━━━━╇━━━━━━━━━━━━━━━┩\n",
              "│ dense (<span style=\"color: #0087ff; text-decoration-color: #0087ff\">Dense</span>)                   │ (<span style=\"color: #00d7ff; text-decoration-color: #00d7ff\">None</span>, <span style=\"color: #00af00; text-decoration-color: #00af00\">8</span>)              │            <span style=\"color: #00af00; text-decoration-color: #00af00\">40</span> │\n",
              "├─────────────────────────────────┼────────────────────────┼───────────────┤\n",
              "│ dense_1 (<span style=\"color: #0087ff; text-decoration-color: #0087ff\">Dense</span>)                 │ (<span style=\"color: #00d7ff; text-decoration-color: #00d7ff\">None</span>, <span style=\"color: #00af00; text-decoration-color: #00af00\">3</span>)              │            <span style=\"color: #00af00; text-decoration-color: #00af00\">27</span> │\n",
              "└─────────────────────────────────┴────────────────────────┴───────────────┘\n",
              "</pre>\n"
            ],
            "text/plain": [
              "┏━━━━━━━━━━━━━━━━━━━━━━━━━━━━━━━━━┳━━━━━━━━━━━━━━━━━━━━━━━━┳━━━━━━━━━━━━━━━┓\n",
              "┃\u001b[1m \u001b[0m\u001b[1mLayer (type)                   \u001b[0m\u001b[1m \u001b[0m┃\u001b[1m \u001b[0m\u001b[1mOutput Shape          \u001b[0m\u001b[1m \u001b[0m┃\u001b[1m \u001b[0m\u001b[1m      Param #\u001b[0m\u001b[1m \u001b[0m┃\n",
              "┡━━━━━━━━━━━━━━━━━━━━━━━━━━━━━━━━━╇━━━━━━━━━━━━━━━━━━━━━━━━╇━━━━━━━━━━━━━━━┩\n",
              "│ dense (\u001b[38;5;33mDense\u001b[0m)                   │ (\u001b[38;5;45mNone\u001b[0m, \u001b[38;5;34m8\u001b[0m)              │            \u001b[38;5;34m40\u001b[0m │\n",
              "├─────────────────────────────────┼────────────────────────┼───────────────┤\n",
              "│ dense_1 (\u001b[38;5;33mDense\u001b[0m)                 │ (\u001b[38;5;45mNone\u001b[0m, \u001b[38;5;34m3\u001b[0m)              │            \u001b[38;5;34m27\u001b[0m │\n",
              "└─────────────────────────────────┴────────────────────────┴───────────────┘\n"
            ]
          },
          "metadata": {},
          "output_type": "display_data"
        },
        {
          "data": {
            "text/html": [
              "<pre style=\"white-space:pre;overflow-x:auto;line-height:normal;font-family:Menlo,'DejaVu Sans Mono',consolas,'Courier New',monospace\"><span style=\"font-weight: bold\"> Total params: </span><span style=\"color: #00af00; text-decoration-color: #00af00\">67</span> (268.00 B)\n",
              "</pre>\n"
            ],
            "text/plain": [
              "\u001b[1m Total params: \u001b[0m\u001b[38;5;34m67\u001b[0m (268.00 B)\n"
            ]
          },
          "metadata": {},
          "output_type": "display_data"
        },
        {
          "data": {
            "text/html": [
              "<pre style=\"white-space:pre;overflow-x:auto;line-height:normal;font-family:Menlo,'DejaVu Sans Mono',consolas,'Courier New',monospace\"><span style=\"font-weight: bold\"> Trainable params: </span><span style=\"color: #00af00; text-decoration-color: #00af00\">67</span> (268.00 B)\n",
              "</pre>\n"
            ],
            "text/plain": [
              "\u001b[1m Trainable params: \u001b[0m\u001b[38;5;34m67\u001b[0m (268.00 B)\n"
            ]
          },
          "metadata": {},
          "output_type": "display_data"
        },
        {
          "data": {
            "text/html": [
              "<pre style=\"white-space:pre;overflow-x:auto;line-height:normal;font-family:Menlo,'DejaVu Sans Mono',consolas,'Courier New',monospace\"><span style=\"font-weight: bold\"> Non-trainable params: </span><span style=\"color: #00af00; text-decoration-color: #00af00\">0</span> (0.00 B)\n",
              "</pre>\n"
            ],
            "text/plain": [
              "\u001b[1m Non-trainable params: \u001b[0m\u001b[38;5;34m0\u001b[0m (0.00 B)\n"
            ]
          },
          "metadata": {},
          "output_type": "display_data"
        }
      ],
      "source": [
        "model = Sequential()\n",
        "model.add(Dense(8, input_dim=4, activation='relu'))\n",
        "model.add(Dense(3, activation='softmax'))\n",
        "\n",
        "model.summary()"
      ]
    },
    {
      "cell_type": "code",
      "execution_count": 7,
      "metadata": {
        "colab": {
          "base_uri": "https://localhost:8080/"
        },
        "id": "_dtpv9HU7L9T",
        "outputId": "a5ab1ead-a7b8-4dbf-91d1-8d958cd26d47"
      },
      "outputs": [
        {
          "name": "stdout",
          "output_type": "stream",
          "text": [
            "Epoch 1/50\n",
            "\u001b[1m15/15\u001b[0m \u001b[32m━━━━━━━━━━━━━━━━━━━━\u001b[0m\u001b[37m\u001b[0m \u001b[1m1s\u001b[0m 1ms/step - accuracy: 0.3140 - loss: 1.3755  \n",
            "Epoch 2/50\n",
            "\u001b[1m15/15\u001b[0m \u001b[32m━━━━━━━━━━━━━━━━━━━━\u001b[0m\u001b[37m\u001b[0m \u001b[1m0s\u001b[0m 680us/step - accuracy: 0.7009 - loss: 0.9271\n",
            "Epoch 3/50\n",
            "\u001b[1m15/15\u001b[0m \u001b[32m━━━━━━━━━━━━━━━━━━━━\u001b[0m\u001b[37m\u001b[0m \u001b[1m0s\u001b[0m 714us/step - accuracy: 0.7019 - loss: 0.7544\n",
            "Epoch 4/50\n",
            "\u001b[1m15/15\u001b[0m \u001b[32m━━━━━━━━━━━━━━━━━━━━\u001b[0m\u001b[37m\u001b[0m \u001b[1m0s\u001b[0m 643us/step - accuracy: 0.7498 - loss: 0.6073\n",
            "Epoch 5/50\n",
            "\u001b[1m15/15\u001b[0m \u001b[32m━━━━━━━━━━━━━━━━━━━━\u001b[0m\u001b[37m\u001b[0m \u001b[1m0s\u001b[0m 571us/step - accuracy: 0.9018 - loss: 0.5233\n",
            "Epoch 6/50\n",
            "\u001b[1m15/15\u001b[0m \u001b[32m━━━━━━━━━━━━━━━━━━━━\u001b[0m\u001b[37m\u001b[0m \u001b[1m0s\u001b[0m 643us/step - accuracy: 0.9507 - loss: 0.4259\n",
            "Epoch 7/50\n",
            "\u001b[1m15/15\u001b[0m \u001b[32m━━━━━━━━━━━━━━━━━━━━\u001b[0m\u001b[37m\u001b[0m \u001b[1m0s\u001b[0m 679us/step - accuracy: 0.8655 - loss: 0.3604\n",
            "Epoch 8/50\n",
            "\u001b[1m15/15\u001b[0m \u001b[32m━━━━━━━━━━━━━━━━━━━━\u001b[0m\u001b[37m\u001b[0m \u001b[1m0s\u001b[0m 643us/step - accuracy: 0.9385 - loss: 0.3442\n",
            "Epoch 9/50\n",
            "\u001b[1m15/15\u001b[0m \u001b[32m━━━━━━━━━━━━━━━━━━━━\u001b[0m\u001b[37m\u001b[0m \u001b[1m0s\u001b[0m 643us/step - accuracy: 0.9128 - loss: 0.3067\n",
            "Epoch 10/50\n",
            "\u001b[1m15/15\u001b[0m \u001b[32m━━━━━━━━━━━━━━━━━━━━\u001b[0m\u001b[37m\u001b[0m \u001b[1m0s\u001b[0m 643us/step - accuracy: 0.9300 - loss: 0.2928\n",
            "Epoch 11/50\n",
            "\u001b[1m15/15\u001b[0m \u001b[32m━━━━━━━━━━━━━━━━━━━━\u001b[0m\u001b[37m\u001b[0m \u001b[1m0s\u001b[0m 572us/step - accuracy: 0.9383 - loss: 0.2523\n",
            "Epoch 12/50\n",
            "\u001b[1m15/15\u001b[0m \u001b[32m━━━━━━━━━━━━━━━━━━━━\u001b[0m\u001b[37m\u001b[0m \u001b[1m0s\u001b[0m 571us/step - accuracy: 0.9852 - loss: 0.2474\n",
            "Epoch 13/50\n",
            "\u001b[1m15/15\u001b[0m \u001b[32m━━━━━━━━━━━━━━━━━━━━\u001b[0m\u001b[37m\u001b[0m \u001b[1m0s\u001b[0m 786us/step - accuracy: 0.9907 - loss: 0.1966\n",
            "Epoch 14/50\n",
            "\u001b[1m15/15\u001b[0m \u001b[32m━━━━━━━━━━━━━━━━━━━━\u001b[0m\u001b[37m\u001b[0m \u001b[1m0s\u001b[0m 607us/step - accuracy: 0.9376 - loss: 0.2194\n",
            "Epoch 15/50\n",
            "\u001b[1m15/15\u001b[0m \u001b[32m━━━━━━━━━━━━━━━━━━━━\u001b[0m\u001b[37m\u001b[0m \u001b[1m0s\u001b[0m 643us/step - accuracy: 0.9367 - loss: 0.2141\n",
            "Epoch 16/50\n",
            "\u001b[1m15/15\u001b[0m \u001b[32m━━━━━━━━━━━━━━━━━━━━\u001b[0m\u001b[37m\u001b[0m \u001b[1m0s\u001b[0m 572us/step - accuracy: 0.9813 - loss: 0.1563\n",
            "Epoch 17/50\n",
            "\u001b[1m15/15\u001b[0m \u001b[32m━━━━━━━━━━━━━━━━━━━━\u001b[0m\u001b[37m\u001b[0m \u001b[1m0s\u001b[0m 571us/step - accuracy: 0.9627 - loss: 0.1908\n",
            "Epoch 18/50\n",
            "\u001b[1m15/15\u001b[0m \u001b[32m━━━━━━━━━━━━━━━━━━━━\u001b[0m\u001b[37m\u001b[0m \u001b[1m0s\u001b[0m 643us/step - accuracy: 0.9834 - loss: 0.1272\n",
            "Epoch 19/50\n",
            "\u001b[1m15/15\u001b[0m \u001b[32m━━━━━━━━━━━━━━━━━━━━\u001b[0m\u001b[37m\u001b[0m \u001b[1m0s\u001b[0m 643us/step - accuracy: 0.9160 - loss: 0.1595\n",
            "Epoch 20/50\n",
            "\u001b[1m15/15\u001b[0m \u001b[32m━━━━━━━━━━━━━━━━━━━━\u001b[0m\u001b[37m\u001b[0m \u001b[1m0s\u001b[0m 643us/step - accuracy: 0.9720 - loss: 0.1432\n",
            "Epoch 21/50\n",
            "\u001b[1m15/15\u001b[0m \u001b[32m━━━━━━━━━━━━━━━━━━━━\u001b[0m\u001b[37m\u001b[0m \u001b[1m0s\u001b[0m 643us/step - accuracy: 0.9709 - loss: 0.1190\n",
            "Epoch 22/50\n",
            "\u001b[1m15/15\u001b[0m \u001b[32m━━━━━━━━━━━━━━━━━━━━\u001b[0m\u001b[37m\u001b[0m \u001b[1m0s\u001b[0m 643us/step - accuracy: 0.9332 - loss: 0.1713\n",
            "Epoch 23/50\n",
            "\u001b[1m15/15\u001b[0m \u001b[32m━━━━━━━━━━━━━━━━━━━━\u001b[0m\u001b[37m\u001b[0m \u001b[1m0s\u001b[0m 571us/step - accuracy: 0.9094 - loss: 0.1960\n",
            "Epoch 24/50\n",
            "\u001b[1m15/15\u001b[0m \u001b[32m━━━━━━━━━━━━━━━━━━━━\u001b[0m\u001b[37m\u001b[0m \u001b[1m0s\u001b[0m 643us/step - accuracy: 0.9666 - loss: 0.1154\n",
            "Epoch 25/50\n",
            "\u001b[1m15/15\u001b[0m \u001b[32m━━━━━━━━━━━━━━━━━━━━\u001b[0m\u001b[37m\u001b[0m \u001b[1m0s\u001b[0m 578us/step - accuracy: 0.9826 - loss: 0.1051\n",
            "Epoch 26/50\n",
            "\u001b[1m15/15\u001b[0m \u001b[32m━━━━━━━━━━━━━━━━━━━━\u001b[0m\u001b[37m\u001b[0m \u001b[1m0s\u001b[0m 643us/step - accuracy: 0.9585 - loss: 0.1057\n",
            "Epoch 27/50\n",
            "\u001b[1m15/15\u001b[0m \u001b[32m━━━━━━━━━━━━━━━━━━━━\u001b[0m\u001b[37m\u001b[0m \u001b[1m0s\u001b[0m 643us/step - accuracy: 0.9866 - loss: 0.1105\n",
            "Epoch 28/50\n",
            "\u001b[1m15/15\u001b[0m \u001b[32m━━━━━━━━━━━━━━━━━━━━\u001b[0m\u001b[37m\u001b[0m \u001b[1m0s\u001b[0m 643us/step - accuracy: 0.9949 - loss: 0.0818\n",
            "Epoch 29/50\n",
            "\u001b[1m15/15\u001b[0m \u001b[32m━━━━━━━━━━━━━━━━━━━━\u001b[0m\u001b[37m\u001b[0m \u001b[1m0s\u001b[0m 572us/step - accuracy: 0.9644 - loss: 0.1071\n",
            "Epoch 30/50\n",
            "\u001b[1m15/15\u001b[0m \u001b[32m━━━━━━━━━━━━━━━━━━━━\u001b[0m\u001b[37m\u001b[0m \u001b[1m0s\u001b[0m 679us/step - accuracy: 0.9739 - loss: 0.1074\n",
            "Epoch 31/50\n",
            "\u001b[1m15/15\u001b[0m \u001b[32m━━━━━━━━━━━━━━━━━━━━\u001b[0m\u001b[37m\u001b[0m \u001b[1m0s\u001b[0m 572us/step - accuracy: 0.9937 - loss: 0.0901\n",
            "Epoch 32/50\n",
            "\u001b[1m15/15\u001b[0m \u001b[32m━━━━━━━━━━━━━━━━━━━━\u001b[0m\u001b[37m\u001b[0m \u001b[1m0s\u001b[0m 608us/step - accuracy: 0.9881 - loss: 0.0622\n",
            "Epoch 33/50\n",
            "\u001b[1m15/15\u001b[0m \u001b[32m━━━━━━━━━━━━━━━━━━━━\u001b[0m\u001b[37m\u001b[0m \u001b[1m0s\u001b[0m 643us/step - accuracy: 0.9805 - loss: 0.0849\n",
            "Epoch 34/50\n",
            "\u001b[1m15/15\u001b[0m \u001b[32m━━━━━━━━━━━━━━━━━━━━\u001b[0m\u001b[37m\u001b[0m \u001b[1m0s\u001b[0m 608us/step - accuracy: 0.9854 - loss: 0.0861\n",
            "Epoch 35/50\n",
            "\u001b[1m15/15\u001b[0m \u001b[32m━━━━━━━━━━━━━━━━━━━━\u001b[0m\u001b[37m\u001b[0m \u001b[1m0s\u001b[0m 572us/step - accuracy: 0.9586 - loss: 0.0972\n",
            "Epoch 36/50\n",
            "\u001b[1m15/15\u001b[0m \u001b[32m━━━━━━━━━━━━━━━━━━━━\u001b[0m\u001b[37m\u001b[0m \u001b[1m0s\u001b[0m 571us/step - accuracy: 0.9573 - loss: 0.1355\n",
            "Epoch 37/50\n",
            "\u001b[1m15/15\u001b[0m \u001b[32m━━━━━━━━━━━━━━━━━━━━\u001b[0m\u001b[37m\u001b[0m \u001b[1m0s\u001b[0m 643us/step - accuracy: 0.9792 - loss: 0.0836\n",
            "Epoch 38/50\n",
            "\u001b[1m15/15\u001b[0m \u001b[32m━━━━━━━━━━━━━━━━━━━━\u001b[0m\u001b[37m\u001b[0m \u001b[1m0s\u001b[0m 643us/step - accuracy: 0.9841 - loss: 0.0883\n",
            "Epoch 39/50\n",
            "\u001b[1m15/15\u001b[0m \u001b[32m━━━━━━━━━━━━━━━━━━━━\u001b[0m\u001b[37m\u001b[0m \u001b[1m0s\u001b[0m 680us/step - accuracy: 0.9759 - loss: 0.0842\n",
            "Epoch 40/50\n",
            "\u001b[1m15/15\u001b[0m \u001b[32m━━━━━━━━━━━━━━━━━━━━\u001b[0m\u001b[37m\u001b[0m \u001b[1m0s\u001b[0m 714us/step - accuracy: 0.9866 - loss: 0.0679\n",
            "Epoch 41/50\n",
            "\u001b[1m15/15\u001b[0m \u001b[32m━━━━━━━━━━━━━━━━━━━━\u001b[0m\u001b[37m\u001b[0m \u001b[1m0s\u001b[0m 786us/step - accuracy: 0.9629 - loss: 0.0762\n",
            "Epoch 42/50\n",
            "\u001b[1m15/15\u001b[0m \u001b[32m━━━━━━━━━━━━━━━━━━━━\u001b[0m\u001b[37m\u001b[0m \u001b[1m0s\u001b[0m 715us/step - accuracy: 0.9873 - loss: 0.0784\n",
            "Epoch 43/50\n",
            "\u001b[1m15/15\u001b[0m \u001b[32m━━━━━━━━━━━━━━━━━━━━\u001b[0m\u001b[37m\u001b[0m \u001b[1m0s\u001b[0m 643us/step - accuracy: 0.9636 - loss: 0.1124\n",
            "Epoch 44/50\n",
            "\u001b[1m15/15\u001b[0m \u001b[32m━━━━━━━━━━━━━━━━━━━━\u001b[0m\u001b[37m\u001b[0m \u001b[1m0s\u001b[0m 786us/step - accuracy: 0.9908 - loss: 0.0758\n",
            "Epoch 45/50\n",
            "\u001b[1m15/15\u001b[0m \u001b[32m━━━━━━━━━━━━━━━━━━━━\u001b[0m\u001b[37m\u001b[0m \u001b[1m0s\u001b[0m 894us/step - accuracy: 0.9914 - loss: 0.0520\n",
            "Epoch 46/50\n",
            "\u001b[1m15/15\u001b[0m \u001b[32m━━━━━━━━━━━━━━━━━━━━\u001b[0m\u001b[37m\u001b[0m \u001b[1m0s\u001b[0m 1ms/step - accuracy: 0.9747 - loss: 0.1026 \n",
            "Epoch 47/50\n",
            "\u001b[1m15/15\u001b[0m \u001b[32m━━━━━━━━━━━━━━━━━━━━\u001b[0m\u001b[37m\u001b[0m \u001b[1m0s\u001b[0m 857us/step - accuracy: 0.9600 - loss: 0.1223\n",
            "Epoch 48/50\n",
            "\u001b[1m15/15\u001b[0m \u001b[32m━━━━━━━━━━━━━━━━━━━━\u001b[0m\u001b[37m\u001b[0m \u001b[1m0s\u001b[0m 786us/step - accuracy: 0.9779 - loss: 0.0974\n",
            "Epoch 49/50\n",
            "\u001b[1m15/15\u001b[0m \u001b[32m━━━━━━━━━━━━━━━━━━━━\u001b[0m\u001b[37m\u001b[0m \u001b[1m0s\u001b[0m 680us/step - accuracy: 0.9825 - loss: 0.0471\n",
            "Epoch 50/50\n",
            "\u001b[1m15/15\u001b[0m \u001b[32m━━━━━━━━━━━━━━━━━━━━\u001b[0m\u001b[37m\u001b[0m \u001b[1m0s\u001b[0m 786us/step - accuracy: 0.9800 - loss: 0.0563\n"
          ]
        },
        {
          "data": {
            "text/plain": [
              "<keras.src.callbacks.history.History at 0x13748a02570>"
            ]
          },
          "execution_count": 7,
          "metadata": {},
          "output_type": "execute_result"
        }
      ],
      "source": [
        "# Compile model\n",
        "model.compile(\n",
        "    loss='categorical_crossentropy',\n",
        "    optimizer=Adam(learning_rate=0.01),\n",
        "    metrics=['accuracy'])\n",
        "\n",
        "model.fit(X, Y, epochs=50, batch_size=10)"
      ]
    },
    {
      "cell_type": "code",
      "execution_count": 8,
      "metadata": {
        "colab": {
          "base_uri": "https://localhost:8080/"
        },
        "id": "ocfBY7cM7cMI",
        "outputId": "c0292b78-88e6-4bba-fe07-616485745396"
      },
      "outputs": [
        {
          "name": "stdout",
          "output_type": "stream",
          "text": [
            "\u001b[1m1/1\u001b[0m \u001b[32m━━━━━━━━━━━━━━━━━━━━\u001b[0m\u001b[37m\u001b[0m \u001b[1m0s\u001b[0m 101ms/step - accuracy: 1.0000 - loss: 0.0546\n",
            "accuracy: 1.0\n",
            "loss: 0.054554399102926254\n"
          ]
        }
      ],
      "source": [
        "loss, accuracy = model.evaluate(X_test, y_test)\n",
        "print(f\"accuracy: {accuracy}\")\n",
        "print(f\"loss: {loss}\")"
      ]
    },
    {
      "cell_type": "code",
      "execution_count": 9,
      "metadata": {
        "colab": {
          "base_uri": "https://localhost:8080/"
        },
        "id": "HoKJ9hdJM3X8",
        "outputId": "b08877df-ae33-43cd-b875-af42cce930d9"
      },
      "outputs": [
        {
          "name": "stdout",
          "output_type": "stream",
          "text": [
            "\u001b[1m1/1\u001b[0m \u001b[32m━━━━━━━━━━━━━━━━━━━━\u001b[0m\u001b[37m\u001b[0m \u001b[1m0s\u001b[0m 32ms/step\n",
            "predicted label:  [1 0 2 1 1 0 1 2 1 1 2 0 0 0 0 1 2 1 1 2 0 2 0 2 2 2 2 2 0 0]\n",
            "ground-truth:  [1 0 2 1 1 0 1 2 1 1 2 0 0 0 0 1 2 1 1 2 0 2 0 2 2 2 2 2 0 0]\n"
          ]
        }
      ],
      "source": [
        "y_preds = np.argmax(model.predict(X_test), 1)\n",
        "y_true = np.argmax(y_test, 1)\n",
        "print(\"predicted label: \", y_preds)\n",
        "print(\"ground-truth: \", y_true)"
      ]
    },
    {
      "cell_type": "code",
      "execution_count": 10,
      "metadata": {
        "colab": {
          "base_uri": "https://localhost:8080/"
        },
        "id": "tyxPS0Tj8ZoD",
        "outputId": "fcfe8131-aabc-4702-f526-4105b38d7ee8"
      },
      "outputs": [
        {
          "data": {
            "text/plain": [
              "array([0, 1, 2], dtype=int64)"
            ]
          },
          "execution_count": 10,
          "metadata": {},
          "output_type": "execute_result"
        }
      ],
      "source": [
        "np.unique(y_true)"
      ]
    },
    {
      "cell_type": "code",
      "execution_count": 11,
      "metadata": {
        "colab": {
          "base_uri": "https://localhost:8080/"
        },
        "id": "OIFjSPI4713D",
        "outputId": "ca3d10d1-7397-46a3-a89e-04819d3e7f7f"
      },
      "outputs": [
        {
          "name": "stdout",
          "output_type": "stream",
          "text": [
            "              precision    recall  f1-score   support\n",
            "\n",
            "           0       1.00      1.00      1.00        10\n",
            "           1       1.00      1.00      1.00         9\n",
            "           2       1.00      1.00      1.00        11\n",
            "\n",
            "    accuracy                           1.00        30\n",
            "   macro avg       1.00      1.00      1.00        30\n",
            "weighted avg       1.00      1.00      1.00        30\n",
            "\n"
          ]
        }
      ],
      "source": [
        "print(classification_report(y_true, y_preds))"
      ]
    },
    {
      "attachments": {},
      "cell_type": "markdown",
      "metadata": {
        "id": "3ZRwAlfR9oj0"
      },
      "source": [
        "# SVM"
      ]
    },
    {
      "cell_type": "code",
      "execution_count": 12,
      "metadata": {
        "colab": {
          "base_uri": "https://localhost:8080/"
        },
        "id": "NJY0YTuR-lmE",
        "outputId": "c78cd10b-0820-4527-8fd6-fd4c3f6d4d5b"
      },
      "outputs": [
        {
          "name": "stdout",
          "output_type": "stream",
          "text": [
            "              precision    recall  f1-score   support\n",
            "\n",
            "           0       1.00      1.00      1.00        10\n",
            "           1       1.00      1.00      1.00         9\n",
            "           2       1.00      1.00      1.00        11\n",
            "\n",
            "    accuracy                           1.00        30\n",
            "   macro avg       1.00      1.00      1.00        30\n",
            "weighted avg       1.00      1.00      1.00        30\n",
            "\n"
          ]
        }
      ],
      "source": [
        "y_train_2 = np.argmax(y_train, 1)\n",
        "svmClf = SVC(kernel='linear')\n",
        "svmClf.fit(X_train, y_train_2)\n",
        "y_preds = svmClf.predict(X_test)\n",
        "print(classification_report(y_true, y_preds))"
      ]
    },
    {
      "attachments": {},
      "cell_type": "markdown",
      "metadata": {
        "id": "zDH8piTGCctl"
      },
      "source": [
        "# Decision Tree"
      ]
    },
    {
      "cell_type": "code",
      "execution_count": 13,
      "metadata": {
        "colab": {
          "base_uri": "https://localhost:8080/"
        },
        "id": "ZYKfXmaDCfML",
        "outputId": "58b2f186-89ce-4a2f-964d-7556f7a529ab"
      },
      "outputs": [
        {
          "name": "stdout",
          "output_type": "stream",
          "text": [
            "              precision    recall  f1-score   support\n",
            "\n",
            "           0       1.00      1.00      1.00        10\n",
            "           1       1.00      1.00      1.00         9\n",
            "           2       1.00      1.00      1.00        11\n",
            "\n",
            "    accuracy                           1.00        30\n",
            "   macro avg       1.00      1.00      1.00        30\n",
            "weighted avg       1.00      1.00      1.00        30\n",
            "\n"
          ]
        }
      ],
      "source": [
        "dtreeClf = DecisionTreeClassifier(criterion=\"gini\")\n",
        "dtreeClf.fit(X_train, y_train_2)\n",
        "y_preds = dtreeClf.predict(X_test)\n",
        "print(classification_report(y_true, y_preds))"
      ]
    },
    {
      "attachments": {},
      "cell_type": "markdown",
      "metadata": {
        "id": "PvjKqld9Cvh7"
      },
      "source": [
        "# XGBoost"
      ]
    },
    {
      "cell_type": "code",
      "execution_count": 14,
      "metadata": {
        "colab": {
          "base_uri": "https://localhost:8080/"
        },
        "id": "S4lD_sCBCxac",
        "outputId": "32eff320-c149-4204-f1de-8c486370ba29"
      },
      "outputs": [
        {
          "name": "stdout",
          "output_type": "stream",
          "text": [
            "              precision    recall  f1-score   support\n",
            "\n",
            "           0       1.00      1.00      1.00        10\n",
            "           1       1.00      1.00      1.00         9\n",
            "           2       1.00      1.00      1.00        11\n",
            "\n",
            "    accuracy                           1.00        30\n",
            "   macro avg       1.00      1.00      1.00        30\n",
            "weighted avg       1.00      1.00      1.00        30\n",
            "\n"
          ]
        }
      ],
      "source": [
        "from xgboost import XGBClassifier\n",
        "\n",
        "xgbClf = XGBClassifier()\n",
        "xgbClf.fit(X_train, y_train_2)\n",
        "y_preds = xgbClf.predict(X_test)\n",
        "print(classification_report(y_true, y_preds))"
      ]
    },
    {
      "cell_type": "code",
      "execution_count": 15,
      "metadata": {
        "colab": {
          "base_uri": "https://localhost:8080/"
        },
        "id": "xnX_Ur6sDEK7",
        "outputId": "82c5eab4-b9a9-4c72-d94b-a8c5a190bda8"
      },
      "outputs": [
        {
          "name": "stdout",
          "output_type": "stream",
          "text": [
            "              precision    recall  f1-score   support\n",
            "\n",
            "           0       1.00      1.00      1.00        10\n",
            "           1       1.00      1.00      1.00         9\n",
            "           2       1.00      1.00      1.00        11\n",
            "\n",
            "    accuracy                           1.00        30\n",
            "   macro avg       1.00      1.00      1.00        30\n",
            "weighted avg       1.00      1.00      1.00        30\n",
            "\n"
          ]
        }
      ],
      "source": [
        "from sklearn.ensemble import RandomForestClassifier\n",
        "\n",
        "rfClf = RandomForestClassifier(n_estimators=50)\n",
        "rfClf.fit(X_train, y_train_2)\n",
        "y_preds = rfClf.predict(X_test)\n",
        "print(classification_report(y_true, y_preds))"
      ]
    },
    {
      "cell_type": "code",
      "execution_count": 16,
      "metadata": {},
      "outputs": [
        {
          "name": "stdout",
          "output_type": "stream",
          "text": [
            "Package                                  Version\n",
            "---------------------------------------- --------------\n",
            "absl-py                                  2.1.0\n",
            "aiohttp                                  3.9.3\n",
            "aiosignal                                1.3.1\n",
            "altair                                   5.3.0\n",
            "aniso8601                                9.0.1\n",
            "annotated-types                          0.6.0\n",
            "anyio                                    4.3.0\n",
            "argon2-cffi                              23.1.0\n",
            "argon2-cffi-bindings                     21.2.0\n",
            "arrow                                    1.3.0\n",
            "asgiref                                  3.8.1\n",
            "asttokens                                2.4.1\n",
            "astunparse                               1.6.3\n",
            "async-lru                                2.0.4\n",
            "attrs                                    23.2.0\n",
            "azure-cognitiveservices-speech           1.29.0\n",
            "azure-core                               1.30.0\n",
            "azure-identity                           1.15.0\n",
            "Babel                                    2.14.0\n",
            "beautifulsoup4                           4.12.3\n",
            "bleach                                   6.1.0\n",
            "blinker                                  1.7.0\n",
            "cachetools                               5.3.3\n",
            "certifi                                  2024.2.2\n",
            "cffi                                     1.16.0\n",
            "charset-normalizer                       3.3.2\n",
            "click                                    8.1.7\n",
            "colorama                                 0.4.6\n",
            "comm                                     0.2.2\n",
            "contourpy                                1.2.0\n",
            "cryptography                             41.0.7\n",
            "cycler                                   0.12.1\n",
            "dataclasses-json                         0.6.4\n",
            "debugpy                                  1.8.1\n",
            "decorator                                5.1.1\n",
            "defusedxml                               0.7.1\n",
            "Deprecated                               1.2.14\n",
            "distro                                   1.9.0\n",
            "docopt                                   0.6.2\n",
            "docutils                                 0.20.1\n",
            "executing                                2.0.1\n",
            "fast-ml                                  3.68\n",
            "fastjsonschema                           2.19.1\n",
            "filelock                                 3.13.3\n",
            "filetype                                 1.2.0\n",
            "findspark                                2.0.1\n",
            "Flask                                    3.0.2\n",
            "flask-restx                              1.3.0\n",
            "flatbuffers                              24.3.25\n",
            "fonttools                                4.50.0\n",
            "fqdn                                     1.5.1\n",
            "frozendict                               2.4.4\n",
            "frozenlist                               1.4.1\n",
            "gast                                     0.6.0\n",
            "gitdb                                    4.0.11\n",
            "GitPython                                3.1.42\n",
            "google-api-core                          2.18.0\n",
            "google-auth                              2.29.0\n",
            "google-pasta                             0.2.0\n",
            "google_search_results                    2.4.1\n",
            "googleapis-common-protos                 1.63.0\n",
            "greenlet                                 3.0.3\n",
            "grpcio                                   1.64.1\n",
            "h11                                      0.14.0\n",
            "h5py                                     3.11.0\n",
            "html5lib                                 1.1\n",
            "httpcore                                 1.0.4\n",
            "httpx                                    0.27.0\n",
            "idna                                     3.6\n",
            "importlib-metadata                       6.11.0\n",
            "importlib_resources                      6.4.0\n",
            "ipykernel                                6.29.3\n",
            "ipython                                  8.22.2\n",
            "isodate                                  0.6.1\n",
            "isoduration                              20.11.0\n",
            "itsdangerous                             2.1.2\n",
            "jaraco.classes                           3.3.1\n",
            "jedi                                     0.19.1\n",
            "Jinja2                                   3.1.3\n",
            "joblib                                   1.3.2\n",
            "json5                                    0.9.22\n",
            "jsonpatch                                1.33\n",
            "jsonpointer                              2.4\n",
            "jsonschema                               4.21.1\n",
            "jsonschema-path                          0.3.2\n",
            "jsonschema-spec                          0.2.4\n",
            "jsonschema-specifications                2023.7.1\n",
            "jupyter_client                           8.6.1\n",
            "jupyter_core                             5.7.2\n",
            "jupyter-events                           0.9.1\n",
            "jupyter-lsp                              2.2.4\n",
            "jupyter_server                           2.13.0\n",
            "jupyter_server_terminals                 0.5.3\n",
            "jupyterlab                               4.1.5\n",
            "jupyterlab_pygments                      0.3.0\n",
            "jupyterlab_server                        2.25.4\n",
            "keras                                    3.4.1\n",
            "keyring                                  24.3.1\n",
            "kiwisolver                               1.4.5\n",
            "langchain                                0.1.9\n",
            "langchain-community                      0.0.24\n",
            "langchain-core                           0.1.27\n",
            "langchain-openai                         0.0.8\n",
            "langsmith                                0.1.31\n",
            "lazy-object-proxy                        1.10.0\n",
            "libclang                                 18.1.1\n",
            "lxml                                     5.2.2\n",
            "Markdown                                 3.6\n",
            "markdown-it-py                           3.0.0\n",
            "MarkupSafe                               2.1.5\n",
            "marshmallow                              3.21.1\n",
            "matplotlib                               3.8.3\n",
            "matplotlib-inline                        0.1.6\n",
            "mdurl                                    0.1.2\n",
            "mistune                                  3.0.2\n",
            "ml-dtypes                                0.3.2\n",
            "more-itertools                           10.2.0\n",
            "msal                                     1.28.0\n",
            "msal-extensions                          1.1.0\n",
            "multidict                                6.0.5\n",
            "multitasking                             0.0.11\n",
            "mypy-extensions                          1.0.0\n",
            "namex                                    0.0.8\n",
            "nbclient                                 0.10.0\n",
            "nbconvert                                7.16.2\n",
            "nbformat                                 5.10.3\n",
            "nest-asyncio                             1.6.0\n",
            "notebook                                 7.1.2\n",
            "notebook_shim                            0.2.4\n",
            "num2words                                0.5.12\n",
            "numpy                                    1.26.4\n",
            "openai                                   1.12.0\n",
            "openapi-core                             0.18.2\n",
            "openapi-schema-validator                 0.6.2\n",
            "openapi-spec-validator                   0.7.1\n",
            "opencensus                               0.11.4\n",
            "opencensus-context                       0.1.3\n",
            "opencensus-ext-azure                     1.1.13\n",
            "opentelemetry-api                        1.23.0\n",
            "opentelemetry-exporter-otlp-proto-common 1.23.0\n",
            "opentelemetry-exporter-otlp-proto-http   1.23.0\n",
            "opentelemetry-proto                      1.23.0\n",
            "opentelemetry-sdk                        1.23.0\n",
            "opentelemetry-semantic-conventions       0.44b0\n",
            "opt-einsum                               3.3.0\n",
            "optree                                   0.11.0\n",
            "orjson                                   3.9.15\n",
            "overrides                                7.7.0\n",
            "packaging                                23.2\n",
            "pandas                                   2.1.3\n",
            "pandocfilters                            1.5.1\n",
            "parse                                    1.20.1\n",
            "parso                                    0.8.3\n",
            "pathable                                 0.4.3\n",
            "peewee                                   3.17.5\n",
            "pillow                                   10.2.0\n",
            "pip                                      24.0\n",
            "platformdirs                             4.2.0\n",
            "plotly                                   5.15.0\n",
            "portalocker                              2.8.2\n",
            "prometheus_client                        0.20.0\n",
            "prompt-toolkit                           3.0.43\n",
            "promptflow                               1.5.0\n",
            "promptflow-tools                         1.2.0\n",
            "proto-plus                               1.23.0\n",
            "protobuf                                 4.25.3\n",
            "psutil                                   5.9.8\n",
            "pure-eval                                0.2.2\n",
            "pyarrow                                  14.0.2\n",
            "pyasn1                                   0.5.1\n",
            "pyasn1-modules                           0.3.0\n",
            "pybase64                                 1.3.2\n",
            "pycparser                                2.21\n",
            "pydantic                                 2.6.4\n",
            "pydantic_core                            2.16.3\n",
            "pydash                                   7.0.7\n",
            "pydeck                                   0.9.1\n",
            "Pygments                                 2.17.2\n",
            "PyJWT                                    2.8.0\n",
            "pyparsing                                3.1.2\n",
            "python-dateutil                          2.9.0.post0\n",
            "python-dotenv                            1.0.1\n",
            "python-json-logger                       2.0.7\n",
            "pytz                                     2024.1\n",
            "pywin32                                  306\n",
            "pywin32-ctypes                           0.2.2\n",
            "pywinpty                                 2.0.13\n",
            "PyYAML                                   6.0.1\n",
            "pyzmq                                    25.1.2\n",
            "referencing                              0.30.2\n",
            "regex                                    2023.12.25\n",
            "requests                                 2.31.0\n",
            "rfc3339-validator                        0.1.4\n",
            "rfc3986-validator                        0.1.1\n",
            "rich                                     13.7.1\n",
            "rpds-py                                  0.18.0\n",
            "rsa                                      4.9\n",
            "ruamel.yaml                              0.18.6\n",
            "ruamel.yaml.clib                         0.2.8\n",
            "scikit-learn                             1.4.1.post1\n",
            "scipy                                    1.12.0\n",
            "seaborn                                  0.13.2\n",
            "Send2Trash                               1.8.2\n",
            "setuptools                               70.1.1\n",
            "six                                      1.16.0\n",
            "smmap                                    5.0.1\n",
            "sniffio                                  1.3.1\n",
            "soupsieve                                2.5\n",
            "SQLAlchemy                               2.0.29\n",
            "stack-data                               0.6.3\n",
            "streamlit                                1.36.0\n",
            "strictyaml                               1.7.3\n",
            "tabulate                                 0.9.0\n",
            "tenacity                                 8.2.3\n",
            "tensorboard                              2.16.2\n",
            "tensorboard-data-server                  0.7.2\n",
            "tensorflow                               2.16.1\n",
            "tensorflow-intel                         2.16.1\n",
            "termcolor                                2.4.0\n",
            "terminado                                0.18.1\n",
            "threadpoolctl                            3.4.0\n",
            "tiktoken                                 0.6.0\n",
            "tinycss2                                 1.2.1\n",
            "toml                                     0.10.2\n",
            "toolz                                    0.12.1\n",
            "tornado                                  6.4\n",
            "tqdm                                     4.66.2\n",
            "traitlets                                5.14.2\n",
            "types-python-dateutil                    2.9.0.20240315\n",
            "typing_extensions                        4.10.0\n",
            "typing-inspect                           0.9.0\n",
            "tzdata                                   2024.1\n",
            "uri-template                             1.3.0\n",
            "urllib3                                  2.2.1\n",
            "waitress                                 2.1.2\n",
            "watchdog                                 4.0.1\n",
            "watermark                                2.4.3\n",
            "wcwidth                                  0.2.13\n",
            "webcolors                                1.13\n",
            "webencodings                             0.5.1\n",
            "websocket-client                         1.7.0\n",
            "Werkzeug                                 3.0.1\n",
            "wheel                                    0.43.0\n",
            "wrapt                                    1.16.0\n",
            "xgboost                                  2.1.0\n",
            "yarl                                     1.9.4\n",
            "yfinance                                 0.2.40\n",
            "zipp                                     3.18.1\n"
          ]
        },
        {
          "name": "stderr",
          "output_type": "stream",
          "text": [
            "\n",
            "[notice] A new release of pip is available: 24.0 -> 24.1.1\n",
            "[notice] To update, run: python.exe -m pip install --upgrade pip\n"
          ]
        }
      ],
      "source": [
        "!pip list"
      ]
    },
    {
      "cell_type": "code",
      "execution_count": 17,
      "metadata": {},
      "outputs": [
        {
          "name": "stdout",
          "output_type": "stream",
          "text": [
            "Requirement already satisfied: watermark in c:\\python\\lib\\site-packages (2.4.3)\n",
            "Requirement already satisfied: ipython>=6.0 in c:\\python\\lib\\site-packages (from watermark) (8.22.2)\n",
            "Requirement already satisfied: importlib-metadata>=1.4 in c:\\python\\lib\\site-packages (from watermark) (6.11.0)\n",
            "Requirement already satisfied: setuptools in c:\\python\\lib\\site-packages (from watermark) (70.1.1)\n",
            "Requirement already satisfied: zipp>=0.5 in c:\\python\\lib\\site-packages (from importlib-metadata>=1.4->watermark) (3.18.1)\n",
            "Requirement already satisfied: decorator in c:\\python\\lib\\site-packages (from ipython>=6.0->watermark) (5.1.1)\n",
            "Requirement already satisfied: jedi>=0.16 in c:\\python\\lib\\site-packages (from ipython>=6.0->watermark) (0.19.1)\n",
            "Requirement already satisfied: matplotlib-inline in c:\\python\\lib\\site-packages (from ipython>=6.0->watermark) (0.1.6)\n",
            "Requirement already satisfied: prompt-toolkit<3.1.0,>=3.0.41 in c:\\python\\lib\\site-packages (from ipython>=6.0->watermark) (3.0.43)\n",
            "Requirement already satisfied: pygments>=2.4.0 in c:\\python\\lib\\site-packages (from ipython>=6.0->watermark) (2.17.2)\n",
            "Requirement already satisfied: stack-data in c:\\python\\lib\\site-packages (from ipython>=6.0->watermark) (0.6.3)\n",
            "Requirement already satisfied: traitlets>=5.13.0 in c:\\python\\lib\\site-packages (from ipython>=6.0->watermark) (5.14.2)\n",
            "Requirement already satisfied: colorama in c:\\python\\lib\\site-packages (from ipython>=6.0->watermark) (0.4.6)\n",
            "Requirement already satisfied: parso<0.9.0,>=0.8.3 in c:\\python\\lib\\site-packages (from jedi>=0.16->ipython>=6.0->watermark) (0.8.3)\n",
            "Requirement already satisfied: wcwidth in c:\\python\\lib\\site-packages (from prompt-toolkit<3.1.0,>=3.0.41->ipython>=6.0->watermark) (0.2.13)\n",
            "Requirement already satisfied: executing>=1.2.0 in c:\\python\\lib\\site-packages (from stack-data->ipython>=6.0->watermark) (2.0.1)\n",
            "Requirement already satisfied: asttokens>=2.1.0 in c:\\python\\lib\\site-packages (from stack-data->ipython>=6.0->watermark) (2.4.1)\n",
            "Requirement already satisfied: pure-eval in c:\\python\\lib\\site-packages (from stack-data->ipython>=6.0->watermark) (0.2.2)\n",
            "Requirement already satisfied: six>=1.12.0 in c:\\python\\lib\\site-packages (from asttokens>=2.1.0->stack-data->ipython>=6.0->watermark) (1.16.0)\n"
          ]
        },
        {
          "name": "stderr",
          "output_type": "stream",
          "text": [
            "\n",
            "[notice] A new release of pip is available: 24.0 -> 24.1.1\n",
            "[notice] To update, run: python.exe -m pip install --upgrade pip\n"
          ]
        }
      ],
      "source": [
        "!pip install watermark"
      ]
    },
    {
      "cell_type": "code",
      "execution_count": 25,
      "metadata": {},
      "outputs": [
        {
          "name": "stdout",
          "output_type": "stream",
          "text": [
            "The watermark extension is already loaded. To reload it, use:\n",
            "  %reload_ext watermark\n",
            "Python implementation: CPython\n",
            "Python version       : 3.12.1\n",
            "IPython version      : 8.22.2\n",
            "\n",
            "numpy     : 1.26.4\n",
            "pandas    : 2.1.3\n",
            "tensorflow: 2.16.2\n",
            "keras     : 3.4.1\n",
            "sklearn   : 1.4.1.post1\n",
            "folium    : 0.17.0\n",
            "\n",
            "Compiler    : MSC v.1937 64 bit (AMD64)\n",
            "OS          : Windows\n",
            "Release     : 11\n",
            "Machine     : AMD64\n",
            "Processor   : AMD64 Family 25 Model 80 Stepping 0, AuthenticAMD\n",
            "CPU cores   : 16\n",
            "Architecture: 64bit\n",
            "\n"
          ]
        }
      ],
      "source": [
        "%load_ext watermark\n",
        "%watermark -v -m -p numpy,pandas,tensorflow,keras,sklearn,folium"
      ]
    },
    {
      "cell_type": "code",
      "execution_count": 19,
      "metadata": {},
      "outputs": [],
      "source": [
        "import pickle"
      ]
    },
    {
      "cell_type": "code",
      "execution_count": 20,
      "metadata": {},
      "outputs": [],
      "source": [
        "# Save the model to a file\n",
        "with open('iris_model.pkl', 'wb') as file:\n",
        "    pickle.dump(model, file)"
      ]
    },
    {
      "cell_type": "code",
      "execution_count": 21,
      "metadata": {},
      "outputs": [
        {
          "name": "stdout",
          "output_type": "stream",
          "text": [
            "\u001b[1m1/1\u001b[0m \u001b[32m━━━━━━━━━━━━━━━━━━━━\u001b[0m\u001b[37m\u001b[0m \u001b[1m0s\u001b[0m 31ms/step\n",
            "[[5.2611623e-04 9.5072305e-01 4.8750762e-02]\n",
            " [9.9953401e-01 4.6596333e-04 1.6781101e-13]\n",
            " [1.1757027e-08 9.7876391e-04 9.9902117e-01]\n",
            " [4.5165533e-04 8.9879465e-01 1.0075371e-01]\n",
            " [2.1142574e-04 9.6850866e-01 3.1279929e-02]\n",
            " [9.9917090e-01 8.2912127e-04 1.5514438e-12]\n",
            " [3.1380013e-03 9.9549317e-01 1.3687527e-03]\n",
            " [6.3369230e-06 8.0590159e-02 9.1940349e-01]\n",
            " [1.6743780e-04 6.0194725e-01 3.9788532e-01]\n",
            " [1.0373637e-03 9.9621922e-01 2.7434146e-03]\n",
            " [3.0984898e-05 1.8267597e-01 8.1729299e-01]\n",
            " [9.9902928e-01 9.7067904e-04 3.0983451e-12]\n",
            " [9.9986935e-01 1.3063980e-04 2.4034174e-14]\n",
            " [9.9890172e-01 1.0982424e-03 3.0136002e-12]\n",
            " [9.9956316e-01 4.3679753e-04 2.8994163e-13]\n",
            " [3.7077744e-04 9.4439763e-01 5.5231579e-02]\n",
            " [3.4021230e-07 3.8395594e-03 9.9616003e-01]\n",
            " [1.1380158e-03 9.9352187e-01 5.3401534e-03]\n",
            " [7.0364843e-04 8.9318264e-01 1.0611372e-01]\n",
            " [3.7517813e-07 3.9950307e-03 9.9600464e-01]\n",
            " [9.9742150e-01 2.5785586e-03 2.0349110e-11]\n",
            " [7.1573304e-05 2.3960303e-01 7.6032537e-01]\n",
            " [9.9776149e-01 2.2385195e-03 1.4744584e-11]\n",
            " [4.6325800e-07 4.3518464e-03 9.9564761e-01]\n",
            " [4.9964169e-06 1.3289306e-01 8.6710197e-01]\n",
            " [1.6291031e-06 1.8802758e-02 9.8119557e-01]\n",
            " [3.3898192e-07 3.8339188e-03 9.9616575e-01]\n",
            " [2.0479007e-07 3.1247658e-03 9.9687493e-01]\n",
            " [9.9816447e-01 1.8356033e-03 1.7157069e-11]\n",
            " [9.9729985e-01 2.7001656e-03 2.2829252e-11]]\n"
          ]
        }
      ],
      "source": [
        "# Load the model from the file\n",
        "with open('iris_model.pkl', 'rb') as file:\n",
        "    loaded_model = pickle.load(file)\n",
        "\n",
        "# Now you can use the loaded model for predictions\n",
        "predictions = loaded_model.predict(X_test)\n",
        "print(predictions)"
      ]
    },
    {
      "cell_type": "code",
      "execution_count": 22,
      "metadata": {},
      "outputs": [
        {
          "name": "stdout",
          "output_type": "stream",
          "text": [
            "\u001b[1m1/1\u001b[0m \u001b[32m━━━━━━━━━━━━━━━━━━━━\u001b[0m\u001b[37m\u001b[0m \u001b[1m0s\u001b[0m 30ms/step\n",
            "[[5.2611623e-04 9.5072305e-01 4.8750762e-02]\n",
            " [9.9953401e-01 4.6596333e-04 1.6781101e-13]\n",
            " [1.1757027e-08 9.7876391e-04 9.9902117e-01]\n",
            " [4.5165533e-04 8.9879465e-01 1.0075371e-01]\n",
            " [2.1142574e-04 9.6850866e-01 3.1279929e-02]\n",
            " [9.9917090e-01 8.2912127e-04 1.5514438e-12]\n",
            " [3.1380013e-03 9.9549317e-01 1.3687527e-03]\n",
            " [6.3369230e-06 8.0590159e-02 9.1940349e-01]\n",
            " [1.6743780e-04 6.0194725e-01 3.9788532e-01]\n",
            " [1.0373637e-03 9.9621922e-01 2.7434146e-03]\n",
            " [3.0984898e-05 1.8267597e-01 8.1729299e-01]\n",
            " [9.9902928e-01 9.7067904e-04 3.0983451e-12]\n",
            " [9.9986935e-01 1.3063980e-04 2.4034174e-14]\n",
            " [9.9890172e-01 1.0982424e-03 3.0136002e-12]\n",
            " [9.9956316e-01 4.3679753e-04 2.8994163e-13]\n",
            " [3.7077744e-04 9.4439763e-01 5.5231579e-02]\n",
            " [3.4021230e-07 3.8395594e-03 9.9616003e-01]\n",
            " [1.1380158e-03 9.9352187e-01 5.3401534e-03]\n",
            " [7.0364843e-04 8.9318264e-01 1.0611372e-01]\n",
            " [3.7517813e-07 3.9950307e-03 9.9600464e-01]\n",
            " [9.9742150e-01 2.5785586e-03 2.0349110e-11]\n",
            " [7.1573304e-05 2.3960303e-01 7.6032537e-01]\n",
            " [9.9776149e-01 2.2385195e-03 1.4744584e-11]\n",
            " [4.6325800e-07 4.3518464e-03 9.9564761e-01]\n",
            " [4.9964169e-06 1.3289306e-01 8.6710197e-01]\n",
            " [1.6291031e-06 1.8802758e-02 9.8119557e-01]\n",
            " [3.3898192e-07 3.8339188e-03 9.9616575e-01]\n",
            " [2.0479007e-07 3.1247658e-03 9.9687493e-01]\n",
            " [9.9816447e-01 1.8356033e-03 1.7157069e-11]\n",
            " [9.9729985e-01 2.7001656e-03 2.2829252e-11]]\n"
          ]
        }
      ],
      "source": [
        "import joblib\n",
        "# Save the Model using joblib.dump()\n",
        "joblib.dump(model, 'iris_model.joblib')\n",
        "\n",
        "# Load the Model using joblib.load() \n",
        "loaded_model = joblib.load('iris_model.joblib')\n",
        "\n",
        "# Make Predictions with the Loaded Model\n",
        "predictions = loaded_model.predict(X_test)\n",
        "print(predictions)"
      ]
    },
    {
      "cell_type": "code",
      "execution_count": 23,
      "metadata": {},
      "outputs": [],
      "source": [
        "# Save the model to a file\n",
        "with open('iris_model.pkl', 'wb') as file:\n",
        "    pickle.dump(model, file)\n",
        "# Save the model to a file\n",
        "with open('iris_svm.pkl', 'wb') as file:\n",
        "    pickle.dump(svmClf, file)\n",
        "# Save the model to a file\n",
        "with open('iris_tr.pkl', 'wb') as file:\n",
        "    pickle.dump(dtreeClf, file)\n",
        "    # Save the model to a file\n",
        "with open('iris_rf.pkl', 'wb') as file:\n",
        "    pickle.dump(rfClf, file)\n",
        "    # Save the model to a file\n",
        "with open('iris_xgb.pkl', 'wb') as file:\n",
        "    pickle.dump(xgbClf, file)"
      ]
    }
  ],
  "metadata": {
    "colab": {
      "provenance": []
    },
    "kernelspec": {
      "display_name": "Python 3",
      "name": "python3"
    },
    "language_info": {
      "codemirror_mode": {
        "name": "ipython",
        "version": 3
      },
      "file_extension": ".py",
      "mimetype": "text/x-python",
      "name": "python",
      "nbconvert_exporter": "python",
      "pygments_lexer": "ipython3",
      "version": "3.12.1"
    }
  },
  "nbformat": 4,
  "nbformat_minor": 0
}
