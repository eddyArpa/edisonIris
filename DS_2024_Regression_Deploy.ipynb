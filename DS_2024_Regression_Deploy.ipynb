{
  "cells": [
    {
      "cell_type": "code",
      "execution_count": 1,
      "metadata": {
        "colab": {
          "base_uri": "https://localhost:8080/"
        },
        "id": "jw8hpSGEtezL",
        "outputId": "ae517e91-923c-479a-a2ed-0e0e46dd2ca3"
      },
      "outputs": [
        {
          "name": "stdout",
          "output_type": "stream",
          "text": [
            "Size Train: 17000\n",
            "Size Test: 3000\n"
          ]
        }
      ],
      "source": [
        "import pandas as pd\n",
        "import numpy as np\n",
        "from sklearn.tree import DecisionTreeRegressor\n",
        "from sklearn.model_selection import train_test_split\n",
        "from sklearn.metrics import mean_squared_error, mean_absolute_error\n",
        "\n",
        "df_train = pd.read_csv(\"california_housing_train.csv\")\n",
        "print(f\"Size Train: {len(df_train)}\")\n",
        "\n",
        "df_test = pd.read_csv(\"california_housing_test.csv\")\n",
        "print(f\"Size Test: {len(df_test)}\")"
      ]
    },
    {
      "cell_type": "code",
      "execution_count": 2,
      "metadata": {
        "colab": {
          "base_uri": "https://localhost:8080/",
          "height": 206
        },
        "id": "GdxLOFmVt4Cb",
        "outputId": "09c5b871-5bac-4dbc-e6be-fa696e8843db"
      },
      "outputs": [
        {
          "data": {
            "text/html": [
              "<div>\n",
              "<style scoped>\n",
              "    .dataframe tbody tr th:only-of-type {\n",
              "        vertical-align: middle;\n",
              "    }\n",
              "\n",
              "    .dataframe tbody tr th {\n",
              "        vertical-align: top;\n",
              "    }\n",
              "\n",
              "    .dataframe thead th {\n",
              "        text-align: right;\n",
              "    }\n",
              "</style>\n",
              "<table border=\"1\" class=\"dataframe\">\n",
              "  <thead>\n",
              "    <tr style=\"text-align: right;\">\n",
              "      <th></th>\n",
              "      <th>longitude</th>\n",
              "      <th>latitude</th>\n",
              "      <th>housing_median_age</th>\n",
              "      <th>total_rooms</th>\n",
              "      <th>total_bedrooms</th>\n",
              "      <th>population</th>\n",
              "      <th>households</th>\n",
              "      <th>median_income</th>\n",
              "      <th>median_house_value</th>\n",
              "    </tr>\n",
              "  </thead>\n",
              "  <tbody>\n",
              "    <tr>\n",
              "      <th>0</th>\n",
              "      <td>-114.31</td>\n",
              "      <td>34.19</td>\n",
              "      <td>15.0</td>\n",
              "      <td>5612.0</td>\n",
              "      <td>1283.0</td>\n",
              "      <td>1015.0</td>\n",
              "      <td>472.0</td>\n",
              "      <td>1.4936</td>\n",
              "      <td>66900.0</td>\n",
              "    </tr>\n",
              "    <tr>\n",
              "      <th>1</th>\n",
              "      <td>-114.47</td>\n",
              "      <td>34.40</td>\n",
              "      <td>19.0</td>\n",
              "      <td>7650.0</td>\n",
              "      <td>1901.0</td>\n",
              "      <td>1129.0</td>\n",
              "      <td>463.0</td>\n",
              "      <td>1.8200</td>\n",
              "      <td>80100.0</td>\n",
              "    </tr>\n",
              "    <tr>\n",
              "      <th>2</th>\n",
              "      <td>-114.56</td>\n",
              "      <td>33.69</td>\n",
              "      <td>17.0</td>\n",
              "      <td>720.0</td>\n",
              "      <td>174.0</td>\n",
              "      <td>333.0</td>\n",
              "      <td>117.0</td>\n",
              "      <td>1.6509</td>\n",
              "      <td>85700.0</td>\n",
              "    </tr>\n",
              "    <tr>\n",
              "      <th>3</th>\n",
              "      <td>-114.57</td>\n",
              "      <td>33.64</td>\n",
              "      <td>14.0</td>\n",
              "      <td>1501.0</td>\n",
              "      <td>337.0</td>\n",
              "      <td>515.0</td>\n",
              "      <td>226.0</td>\n",
              "      <td>3.1917</td>\n",
              "      <td>73400.0</td>\n",
              "    </tr>\n",
              "    <tr>\n",
              "      <th>4</th>\n",
              "      <td>-114.57</td>\n",
              "      <td>33.57</td>\n",
              "      <td>20.0</td>\n",
              "      <td>1454.0</td>\n",
              "      <td>326.0</td>\n",
              "      <td>624.0</td>\n",
              "      <td>262.0</td>\n",
              "      <td>1.9250</td>\n",
              "      <td>65500.0</td>\n",
              "    </tr>\n",
              "  </tbody>\n",
              "</table>\n",
              "</div>"
            ],
            "text/plain": [
              "   longitude  latitude  housing_median_age  total_rooms  total_bedrooms  \\\n",
              "0    -114.31     34.19                15.0       5612.0          1283.0   \n",
              "1    -114.47     34.40                19.0       7650.0          1901.0   \n",
              "2    -114.56     33.69                17.0        720.0           174.0   \n",
              "3    -114.57     33.64                14.0       1501.0           337.0   \n",
              "4    -114.57     33.57                20.0       1454.0           326.0   \n",
              "\n",
              "   population  households  median_income  median_house_value  \n",
              "0      1015.0       472.0         1.4936             66900.0  \n",
              "1      1129.0       463.0         1.8200             80100.0  \n",
              "2       333.0       117.0         1.6509             85700.0  \n",
              "3       515.0       226.0         3.1917             73400.0  \n",
              "4       624.0       262.0         1.9250             65500.0  "
            ]
          },
          "execution_count": 2,
          "metadata": {},
          "output_type": "execute_result"
        }
      ],
      "source": [
        "df_train.head()"
      ]
    },
    {
      "cell_type": "code",
      "execution_count": 3,
      "metadata": {
        "colab": {
          "base_uri": "https://localhost:8080/",
          "height": 300
        },
        "id": "d5dY9yfUuNyn",
        "outputId": "0f35b6ff-a96c-4ed2-fdba-17dbda9d6ce3"
      },
      "outputs": [
        {
          "data": {
            "text/html": [
              "<div>\n",
              "<style scoped>\n",
              "    .dataframe tbody tr th:only-of-type {\n",
              "        vertical-align: middle;\n",
              "    }\n",
              "\n",
              "    .dataframe tbody tr th {\n",
              "        vertical-align: top;\n",
              "    }\n",
              "\n",
              "    .dataframe thead th {\n",
              "        text-align: right;\n",
              "    }\n",
              "</style>\n",
              "<table border=\"1\" class=\"dataframe\">\n",
              "  <thead>\n",
              "    <tr style=\"text-align: right;\">\n",
              "      <th></th>\n",
              "      <th>longitude</th>\n",
              "      <th>latitude</th>\n",
              "      <th>housing_median_age</th>\n",
              "      <th>total_rooms</th>\n",
              "      <th>total_bedrooms</th>\n",
              "      <th>population</th>\n",
              "      <th>households</th>\n",
              "      <th>median_income</th>\n",
              "      <th>median_house_value</th>\n",
              "    </tr>\n",
              "  </thead>\n",
              "  <tbody>\n",
              "    <tr>\n",
              "      <th>count</th>\n",
              "      <td>17000.00</td>\n",
              "      <td>17000.00</td>\n",
              "      <td>17000.00</td>\n",
              "      <td>17000.00</td>\n",
              "      <td>17000.00</td>\n",
              "      <td>17000.00</td>\n",
              "      <td>17000.00</td>\n",
              "      <td>17000.00</td>\n",
              "      <td>17000.00</td>\n",
              "    </tr>\n",
              "    <tr>\n",
              "      <th>mean</th>\n",
              "      <td>-119.56</td>\n",
              "      <td>35.63</td>\n",
              "      <td>28.59</td>\n",
              "      <td>2643.66</td>\n",
              "      <td>539.41</td>\n",
              "      <td>1429.57</td>\n",
              "      <td>501.22</td>\n",
              "      <td>3.88</td>\n",
              "      <td>207300.91</td>\n",
              "    </tr>\n",
              "    <tr>\n",
              "      <th>std</th>\n",
              "      <td>2.01</td>\n",
              "      <td>2.14</td>\n",
              "      <td>12.59</td>\n",
              "      <td>2179.95</td>\n",
              "      <td>421.50</td>\n",
              "      <td>1147.85</td>\n",
              "      <td>384.52</td>\n",
              "      <td>1.91</td>\n",
              "      <td>115983.76</td>\n",
              "    </tr>\n",
              "    <tr>\n",
              "      <th>min</th>\n",
              "      <td>-124.35</td>\n",
              "      <td>32.54</td>\n",
              "      <td>1.00</td>\n",
              "      <td>2.00</td>\n",
              "      <td>1.00</td>\n",
              "      <td>3.00</td>\n",
              "      <td>1.00</td>\n",
              "      <td>0.50</td>\n",
              "      <td>14999.00</td>\n",
              "    </tr>\n",
              "    <tr>\n",
              "      <th>25%</th>\n",
              "      <td>-121.79</td>\n",
              "      <td>33.93</td>\n",
              "      <td>18.00</td>\n",
              "      <td>1462.00</td>\n",
              "      <td>297.00</td>\n",
              "      <td>790.00</td>\n",
              "      <td>282.00</td>\n",
              "      <td>2.57</td>\n",
              "      <td>119400.00</td>\n",
              "    </tr>\n",
              "    <tr>\n",
              "      <th>50%</th>\n",
              "      <td>-118.49</td>\n",
              "      <td>34.25</td>\n",
              "      <td>29.00</td>\n",
              "      <td>2127.00</td>\n",
              "      <td>434.00</td>\n",
              "      <td>1167.00</td>\n",
              "      <td>409.00</td>\n",
              "      <td>3.54</td>\n",
              "      <td>180400.00</td>\n",
              "    </tr>\n",
              "    <tr>\n",
              "      <th>75%</th>\n",
              "      <td>-118.00</td>\n",
              "      <td>37.72</td>\n",
              "      <td>37.00</td>\n",
              "      <td>3151.25</td>\n",
              "      <td>648.25</td>\n",
              "      <td>1721.00</td>\n",
              "      <td>605.25</td>\n",
              "      <td>4.77</td>\n",
              "      <td>265000.00</td>\n",
              "    </tr>\n",
              "    <tr>\n",
              "      <th>max</th>\n",
              "      <td>-114.31</td>\n",
              "      <td>41.95</td>\n",
              "      <td>52.00</td>\n",
              "      <td>37937.00</td>\n",
              "      <td>6445.00</td>\n",
              "      <td>35682.00</td>\n",
              "      <td>6082.00</td>\n",
              "      <td>15.00</td>\n",
              "      <td>500001.00</td>\n",
              "    </tr>\n",
              "  </tbody>\n",
              "</table>\n",
              "</div>"
            ],
            "text/plain": [
              "       longitude  latitude  housing_median_age  total_rooms  total_bedrooms  \\\n",
              "count   17000.00  17000.00            17000.00     17000.00        17000.00   \n",
              "mean     -119.56     35.63               28.59      2643.66          539.41   \n",
              "std         2.01      2.14               12.59      2179.95          421.50   \n",
              "min      -124.35     32.54                1.00         2.00            1.00   \n",
              "25%      -121.79     33.93               18.00      1462.00          297.00   \n",
              "50%      -118.49     34.25               29.00      2127.00          434.00   \n",
              "75%      -118.00     37.72               37.00      3151.25          648.25   \n",
              "max      -114.31     41.95               52.00     37937.00         6445.00   \n",
              "\n",
              "       population  households  median_income  median_house_value  \n",
              "count    17000.00    17000.00       17000.00            17000.00  \n",
              "mean      1429.57      501.22           3.88           207300.91  \n",
              "std       1147.85      384.52           1.91           115983.76  \n",
              "min          3.00        1.00           0.50            14999.00  \n",
              "25%        790.00      282.00           2.57           119400.00  \n",
              "50%       1167.00      409.00           3.54           180400.00  \n",
              "75%       1721.00      605.25           4.77           265000.00  \n",
              "max      35682.00     6082.00          15.00           500001.00  "
            ]
          },
          "execution_count": 3,
          "metadata": {},
          "output_type": "execute_result"
        }
      ],
      "source": [
        "round(df_train.describe(),2)"
      ]
    },
    {
      "attachments": {},
      "cell_type": "markdown",
      "metadata": {
        "id": "mOFtm42ywPEe"
      },
      "source": [
        "# Outliers Removal"
      ]
    },
    {
      "cell_type": "code",
      "execution_count": 4,
      "metadata": {
        "colab": {
          "base_uri": "https://localhost:8080/"
        },
        "id": "6tqiWB-HwQsB",
        "outputId": "db1b0de1-8620-4df4-ed9f-5e29d72ffb3e"
      },
      "outputs": [
        {
          "data": {
            "text/plain": [
              "({'total_rooms': 1462.0,\n",
              "  'total_bedrooms': 297.0,\n",
              "  'population': 790.0,\n",
              "  'households': 282.0,\n",
              "  'median_income': 2.566375},\n",
              " {'total_rooms': 3151.25,\n",
              "  'total_bedrooms': 648.25,\n",
              "  'population': 1721.0,\n",
              "  'households': 605.25,\n",
              "  'median_income': 4.767},\n",
              " {'total_rooms': 1689.25,\n",
              "  'total_bedrooms': 351.25,\n",
              "  'population': 931.0,\n",
              "  'households': 323.25,\n",
              "  'median_income': 2.2006250000000005},\n",
              " {'total_rooms': 5685.125,\n",
              "  'total_bedrooms': 1175.125,\n",
              "  'population': 3117.5,\n",
              "  'households': 1090.125,\n",
              "  'median_income': 8.067937500000001},\n",
              " {'total_rooms': -1071.875,\n",
              "  'total_bedrooms': -229.875,\n",
              "  'population': -606.5,\n",
              "  'households': -202.875,\n",
              "  'median_income': -0.7345625000000009})"
            ]
          },
          "execution_count": 4,
          "metadata": {},
          "output_type": "execute_result"
        }
      ],
      "source": [
        "df_train = pd.read_csv(\"california_housing_train.csv\")\n",
        "Q1 = df_train.describe().loc[\"25%\", \"total_rooms\":\"median_income\"].to_dict()\n",
        "Q3 = df_train.describe().loc[\"75%\", \"total_rooms\":\"median_income\"].to_dict()\n",
        "IQR = {q:Q3[q] - Q1[q] for q in Q1.keys()}\n",
        "upper_bound = {q:Q3[q]+1.5*IQR[q] for q in Q1.keys()}\n",
        "lower_bound = {q:Q1[q]-1.5*IQR[q] for q in Q1.keys()}\n",
        "\n",
        "Q1, Q3, IQR, upper_bound, lower_bound"
      ]
    },
    {
      "cell_type": "code",
      "execution_count": 5,
      "metadata": {},
      "outputs": [
        {
          "data": {
            "text/html": [
              "<div>\n",
              "<style scoped>\n",
              "    .dataframe tbody tr th:only-of-type {\n",
              "        vertical-align: middle;\n",
              "    }\n",
              "\n",
              "    .dataframe tbody tr th {\n",
              "        vertical-align: top;\n",
              "    }\n",
              "\n",
              "    .dataframe thead th {\n",
              "        text-align: right;\n",
              "    }\n",
              "</style>\n",
              "<table border=\"1\" class=\"dataframe\">\n",
              "  <thead>\n",
              "    <tr style=\"text-align: right;\">\n",
              "      <th></th>\n",
              "      <th>longitude</th>\n",
              "      <th>latitude</th>\n",
              "      <th>housing_median_age</th>\n",
              "      <th>total_rooms</th>\n",
              "      <th>total_bedrooms</th>\n",
              "      <th>population</th>\n",
              "      <th>households</th>\n",
              "      <th>median_income</th>\n",
              "      <th>median_house_value</th>\n",
              "    </tr>\n",
              "  </thead>\n",
              "  <tbody>\n",
              "    <tr>\n",
              "      <th>0</th>\n",
              "      <td>-114.31</td>\n",
              "      <td>34.19</td>\n",
              "      <td>15.0</td>\n",
              "      <td>5612.0</td>\n",
              "      <td>1283.0</td>\n",
              "      <td>1015.0</td>\n",
              "      <td>472.0</td>\n",
              "      <td>1.4936</td>\n",
              "      <td>66900.0</td>\n",
              "    </tr>\n",
              "    <tr>\n",
              "      <th>1</th>\n",
              "      <td>-114.47</td>\n",
              "      <td>34.40</td>\n",
              "      <td>19.0</td>\n",
              "      <td>7650.0</td>\n",
              "      <td>1901.0</td>\n",
              "      <td>1129.0</td>\n",
              "      <td>463.0</td>\n",
              "      <td>1.8200</td>\n",
              "      <td>80100.0</td>\n",
              "    </tr>\n",
              "    <tr>\n",
              "      <th>2</th>\n",
              "      <td>-114.56</td>\n",
              "      <td>33.69</td>\n",
              "      <td>17.0</td>\n",
              "      <td>720.0</td>\n",
              "      <td>174.0</td>\n",
              "      <td>333.0</td>\n",
              "      <td>117.0</td>\n",
              "      <td>1.6509</td>\n",
              "      <td>85700.0</td>\n",
              "    </tr>\n",
              "    <tr>\n",
              "      <th>3</th>\n",
              "      <td>-114.57</td>\n",
              "      <td>33.64</td>\n",
              "      <td>14.0</td>\n",
              "      <td>1501.0</td>\n",
              "      <td>337.0</td>\n",
              "      <td>515.0</td>\n",
              "      <td>226.0</td>\n",
              "      <td>3.1917</td>\n",
              "      <td>73400.0</td>\n",
              "    </tr>\n",
              "    <tr>\n",
              "      <th>4</th>\n",
              "      <td>-114.57</td>\n",
              "      <td>33.57</td>\n",
              "      <td>20.0</td>\n",
              "      <td>1454.0</td>\n",
              "      <td>326.0</td>\n",
              "      <td>624.0</td>\n",
              "      <td>262.0</td>\n",
              "      <td>1.9250</td>\n",
              "      <td>65500.0</td>\n",
              "    </tr>\n",
              "    <tr>\n",
              "      <th>...</th>\n",
              "      <td>...</td>\n",
              "      <td>...</td>\n",
              "      <td>...</td>\n",
              "      <td>...</td>\n",
              "      <td>...</td>\n",
              "      <td>...</td>\n",
              "      <td>...</td>\n",
              "      <td>...</td>\n",
              "      <td>...</td>\n",
              "    </tr>\n",
              "    <tr>\n",
              "      <th>16995</th>\n",
              "      <td>-124.26</td>\n",
              "      <td>40.58</td>\n",
              "      <td>52.0</td>\n",
              "      <td>2217.0</td>\n",
              "      <td>394.0</td>\n",
              "      <td>907.0</td>\n",
              "      <td>369.0</td>\n",
              "      <td>2.3571</td>\n",
              "      <td>111400.0</td>\n",
              "    </tr>\n",
              "    <tr>\n",
              "      <th>16996</th>\n",
              "      <td>-124.27</td>\n",
              "      <td>40.69</td>\n",
              "      <td>36.0</td>\n",
              "      <td>2349.0</td>\n",
              "      <td>528.0</td>\n",
              "      <td>1194.0</td>\n",
              "      <td>465.0</td>\n",
              "      <td>2.5179</td>\n",
              "      <td>79000.0</td>\n",
              "    </tr>\n",
              "    <tr>\n",
              "      <th>16997</th>\n",
              "      <td>-124.30</td>\n",
              "      <td>41.84</td>\n",
              "      <td>17.0</td>\n",
              "      <td>2677.0</td>\n",
              "      <td>531.0</td>\n",
              "      <td>1244.0</td>\n",
              "      <td>456.0</td>\n",
              "      <td>3.0313</td>\n",
              "      <td>103600.0</td>\n",
              "    </tr>\n",
              "    <tr>\n",
              "      <th>16998</th>\n",
              "      <td>-124.30</td>\n",
              "      <td>41.80</td>\n",
              "      <td>19.0</td>\n",
              "      <td>2672.0</td>\n",
              "      <td>552.0</td>\n",
              "      <td>1298.0</td>\n",
              "      <td>478.0</td>\n",
              "      <td>1.9797</td>\n",
              "      <td>85800.0</td>\n",
              "    </tr>\n",
              "    <tr>\n",
              "      <th>16999</th>\n",
              "      <td>-124.35</td>\n",
              "      <td>40.54</td>\n",
              "      <td>52.0</td>\n",
              "      <td>1820.0</td>\n",
              "      <td>300.0</td>\n",
              "      <td>806.0</td>\n",
              "      <td>270.0</td>\n",
              "      <td>3.0147</td>\n",
              "      <td>94600.0</td>\n",
              "    </tr>\n",
              "  </tbody>\n",
              "</table>\n",
              "<p>17000 rows × 9 columns</p>\n",
              "</div>"
            ],
            "text/plain": [
              "       longitude  latitude  housing_median_age  total_rooms  total_bedrooms  \\\n",
              "0        -114.31     34.19                15.0       5612.0          1283.0   \n",
              "1        -114.47     34.40                19.0       7650.0          1901.0   \n",
              "2        -114.56     33.69                17.0        720.0           174.0   \n",
              "3        -114.57     33.64                14.0       1501.0           337.0   \n",
              "4        -114.57     33.57                20.0       1454.0           326.0   \n",
              "...          ...       ...                 ...          ...             ...   \n",
              "16995    -124.26     40.58                52.0       2217.0           394.0   \n",
              "16996    -124.27     40.69                36.0       2349.0           528.0   \n",
              "16997    -124.30     41.84                17.0       2677.0           531.0   \n",
              "16998    -124.30     41.80                19.0       2672.0           552.0   \n",
              "16999    -124.35     40.54                52.0       1820.0           300.0   \n",
              "\n",
              "       population  households  median_income  median_house_value  \n",
              "0          1015.0       472.0         1.4936             66900.0  \n",
              "1          1129.0       463.0         1.8200             80100.0  \n",
              "2           333.0       117.0         1.6509             85700.0  \n",
              "3           515.0       226.0         3.1917             73400.0  \n",
              "4           624.0       262.0         1.9250             65500.0  \n",
              "...           ...         ...            ...                 ...  \n",
              "16995       907.0       369.0         2.3571            111400.0  \n",
              "16996      1194.0       465.0         2.5179             79000.0  \n",
              "16997      1244.0       456.0         3.0313            103600.0  \n",
              "16998      1298.0       478.0         1.9797             85800.0  \n",
              "16999       806.0       270.0         3.0147             94600.0  \n",
              "\n",
              "[17000 rows x 9 columns]"
            ]
          },
          "execution_count": 5,
          "metadata": {},
          "output_type": "execute_result"
        }
      ],
      "source": [
        "df_train"
      ]
    },
    {
      "cell_type": "code",
      "execution_count": 6,
      "metadata": {
        "colab": {
          "base_uri": "https://localhost:8080/"
        },
        "id": "l_-WsKNNxwrq",
        "outputId": "c10b407a-c19d-4622-b32e-354bb7029017"
      },
      "outputs": [
        {
          "name": "stdout",
          "output_type": "stream",
          "text": [
            "17000\n",
            "15924\n",
            "15666\n",
            "15460\n",
            "15451\n",
            "14951\n"
          ]
        }
      ],
      "source": [
        "print(len(df_train))\n",
        "for q in Q1.keys():\n",
        "  condition = (df_train[q] < lower_bound[q]) | (df_train[q] > upper_bound[q])\n",
        "  df_train = df_train[~condition]\n",
        "  print(len(df_train))"
      ]
    },
    {
      "cell_type": "code",
      "execution_count": 7,
      "metadata": {},
      "outputs": [
        {
          "data": {
            "text/plain": [
              "(14951, 9)"
            ]
          },
          "execution_count": 7,
          "metadata": {},
          "output_type": "execute_result"
        }
      ],
      "source": [
        "df_train.shape"
      ]
    },
    {
      "cell_type": "code",
      "execution_count": 8,
      "metadata": {
        "colab": {
          "base_uri": "https://localhost:8080/"
        },
        "id": "HT8uE8GFyVhU",
        "outputId": "a28fb601-4abf-4ab1-d494-f3a4516e81a6"
      },
      "outputs": [
        {
          "data": {
            "text/plain": [
              "((14951, 8), (14951,))"
            ]
          },
          "execution_count": 8,
          "metadata": {},
          "output_type": "execute_result"
        }
      ],
      "source": [
        "X = df_train.iloc[:, 0:-1]\n",
        "y = df_train.iloc[:, -1]\n",
        "X.shape, y.shape"
      ]
    },
    {
      "cell_type": "code",
      "execution_count": 9,
      "metadata": {
        "colab": {
          "base_uri": "https://localhost:8080/"
        },
        "id": "rLXqVp3C1BXj",
        "outputId": "3b0eb1f2-85ea-41fd-c5ab-eda721424259"
      },
      "outputs": [
        {
          "data": {
            "text/plain": [
              "((12708, 8), (2243, 8), (12708,), (2243,))"
            ]
          },
          "execution_count": 9,
          "metadata": {},
          "output_type": "execute_result"
        }
      ],
      "source": [
        "X_train, X_test, y_train, y_test = train_test_split(X,y,test_size=0.15, random_state=42)\n",
        "X_train.shape, X_test.shape, y_train.shape, y_test.shape"
      ]
    },
    {
      "cell_type": "code",
      "execution_count": 10,
      "metadata": {
        "id": "0pNwnyOxe0gF"
      },
      "outputs": [],
      "source": [
        "# baseline model\n",
        "y_train_mean = y_train.mean()"
      ]
    },
    {
      "cell_type": "code",
      "execution_count": 11,
      "metadata": {
        "id": "UsPqQHH0e_y9"
      },
      "outputs": [],
      "source": [
        "y_train_base = np.full(y_train.shape, y_train_mean)\n",
        "assert y_train_base.shape[0] == y_train.shape[0]"
      ]
    },
    {
      "cell_type": "code",
      "execution_count": 12,
      "metadata": {
        "colab": {
          "base_uri": "https://localhost:8080/"
        },
        "id": "kzjXw44wfHhQ",
        "outputId": "24b8ad71-ebbf-46af-c25c-086167c02c5c"
      },
      "outputs": [
        {
          "name": "stdout",
          "output_type": "stream",
          "text": [
            "Baseline RMSE: 107473.84\n",
            "Baseline MAE: 84659.03\n"
          ]
        },
        {
          "name": "stderr",
          "output_type": "stream",
          "text": [
            "c:\\python\\Lib\\site-packages\\sklearn\\metrics\\_regression.py:483: FutureWarning: 'squared' is deprecated in version 1.4 and will be removed in 1.6. To calculate the root mean squared error, use the function'root_mean_squared_error'.\n",
            "  warnings.warn(\n"
          ]
        }
      ],
      "source": [
        "baseline_rmse = mean_squared_error(y_train, y_train_base, squared=False)\n",
        "baseline_mae = mean_absolute_error(y_train, y_train_base)\n",
        "\n",
        "print(f'Baseline RMSE: {baseline_rmse:.2f}')\n",
        "print(f'Baseline MAE: {baseline_mae:.2f}')"
      ]
    },
    {
      "attachments": {},
      "cell_type": "markdown",
      "metadata": {
        "id": "xXRR64NV4H9c"
      },
      "source": [
        "# Linear Regression"
      ]
    },
    {
      "cell_type": "code",
      "execution_count": 13,
      "metadata": {
        "colab": {
          "base_uri": "https://localhost:8080/"
        },
        "id": "_ruXlat54Ktx",
        "outputId": "3b09f08b-c441-419f-b393-5137a56cd4fb"
      },
      "outputs": [
        {
          "name": "stdout",
          "output_type": "stream",
          "text": [
            "Training RMSE: 66430.53\n",
            "Training MAE: 49085.58\n"
          ]
        },
        {
          "name": "stderr",
          "output_type": "stream",
          "text": [
            "c:\\python\\Lib\\site-packages\\sklearn\\metrics\\_regression.py:483: FutureWarning: 'squared' is deprecated in version 1.4 and will be removed in 1.6. To calculate the root mean squared error, use the function'root_mean_squared_error'.\n",
            "  warnings.warn(\n"
          ]
        }
      ],
      "source": [
        "from sklearn.linear_model import LinearRegression\n",
        "\n",
        "linReg = LinearRegression()\n",
        "linReg.fit(X_train, y_train)\n",
        "y_train_predict = linReg.predict(X_train)\n",
        "\n",
        "training_rmse = mean_squared_error(y_train, y_train_predict, squared=False)\n",
        "training_mae = mean_absolute_error(y_train, y_train_predict)\n",
        "\n",
        "print(f'Training RMSE: {training_rmse:.2f}')\n",
        "print(f'Training MAE: {training_mae:.2f}')"
      ]
    },
    {
      "cell_type": "code",
      "execution_count": 14,
      "metadata": {
        "id": "J_Jmfqefh4le"
      },
      "outputs": [
        {
          "data": {
            "text/plain": [
              "4518614056.609168"
            ]
          },
          "execution_count": 14,
          "metadata": {},
          "output_type": "execute_result"
        }
      ],
      "source": [
        "from sklearn.linear_model import LinearRegression\n",
        "\n",
        "linReg = LinearRegression()\n",
        "linReg.fit(X_train, y_train)\n",
        "mean_squared_error(y_test, linReg.predict(X_test))"
      ]
    },
    {
      "attachments": {},
      "cell_type": "markdown",
      "metadata": {
        "id": "Beanxg5i1EbV"
      },
      "source": [
        "# Decision Tree"
      ]
    },
    {
      "cell_type": "code",
      "execution_count": 15,
      "metadata": {
        "colab": {
          "base_uri": "https://localhost:8080/"
        },
        "id": "Jyyv5w3nyW3F",
        "outputId": "0432ab86-639c-404a-8add-39e181c0f132"
      },
      "outputs": [
        {
          "data": {
            "text/plain": [
              "5075404739.404815"
            ]
          },
          "execution_count": 15,
          "metadata": {},
          "output_type": "execute_result"
        }
      ],
      "source": [
        "dtreeReg = DecisionTreeRegressor(criterion=\"squared_error\")\n",
        "dtreeReg.fit(X_train, y_train)\n",
        "mean_squared_error(y_test, dtreeReg.predict(X_test))"
      ]
    },
    {
      "attachments": {},
      "cell_type": "markdown",
      "metadata": {
        "id": "5IFc5FiL1LGu"
      },
      "source": [
        "# SVM"
      ]
    },
    {
      "cell_type": "code",
      "execution_count": 16,
      "metadata": {
        "colab": {
          "base_uri": "https://localhost:8080/"
        },
        "id": "eYf9qfZ31NKS",
        "outputId": "f111f363-6bf5-4f55-99d7-44c263d45108"
      },
      "outputs": [
        {
          "data": {
            "text/plain": [
              "8619980965.681896"
            ]
          },
          "execution_count": 16,
          "metadata": {},
          "output_type": "execute_result"
        }
      ],
      "source": [
        "from sklearn.svm import SVR\n",
        "\n",
        "svReg = SVR(kernel=\"linear\")\n",
        "svReg.fit(X_train, y_train)\n",
        "mean_squared_error(y_test, svReg.predict(X_test))"
      ]
    },
    {
      "cell_type": "code",
      "execution_count": 17,
      "metadata": {
        "colab": {
          "base_uri": "https://localhost:8080/"
        },
        "id": "Qt8MmhYI1l3Q",
        "outputId": "9b9eb7c6-61b8-4916-d92f-b44dc6fb29b2"
      },
      "outputs": [
        {
          "data": {
            "text/plain": [
              "12257130895.114044"
            ]
          },
          "execution_count": 17,
          "metadata": {},
          "output_type": "execute_result"
        }
      ],
      "source": [
        "svReg = SVR(kernel=\"rbf\")\n",
        "svReg.fit(X_train, y_train)\n",
        "mean_squared_error(y_test, svReg.predict(X_test))"
      ]
    },
    {
      "cell_type": "code",
      "execution_count": 18,
      "metadata": {
        "colab": {
          "base_uri": "https://localhost:8080/"
        },
        "id": "aASabC8a1xQk",
        "outputId": "7bed6851-abfa-499f-e5a2-8648bee048d0"
      },
      "outputs": [
        {
          "data": {
            "text/plain": [
              "12133905749.854404"
            ]
          },
          "execution_count": 18,
          "metadata": {},
          "output_type": "execute_result"
        }
      ],
      "source": [
        "svReg = SVR(kernel=\"poly\")\n",
        "svReg.fit(X_train, y_train)\n",
        "mean_squared_error(y_test, svReg.predict(X_test))"
      ]
    },
    {
      "attachments": {},
      "cell_type": "markdown",
      "metadata": {
        "id": "qElIw0Ql60-5"
      },
      "source": [
        "# XGBoost"
      ]
    },
    {
      "cell_type": "code",
      "execution_count": 19,
      "metadata": {
        "colab": {
          "base_uri": "https://localhost:8080/"
        },
        "id": "IIR8YHU26zLw",
        "outputId": "f3fce119-928e-49ae-b6fd-3246149ddd17"
      },
      "outputs": [
        {
          "data": {
            "text/plain": [
              "2370028597.706199"
            ]
          },
          "execution_count": 19,
          "metadata": {},
          "output_type": "execute_result"
        }
      ],
      "source": [
        "import xgboost as xgb\n",
        "\n",
        "xgbReg = xgb.XGBRegressor()\n",
        "xgbReg.fit(X_train, y_train)\n",
        "mean_squared_error(y_test, xgbReg.predict(X_test))"
      ]
    },
    {
      "attachments": {},
      "cell_type": "markdown",
      "metadata": {
        "id": "fxK5qvvU7HvO"
      },
      "source": [
        "# Random Forrest"
      ]
    },
    {
      "cell_type": "code",
      "execution_count": 20,
      "metadata": {
        "colab": {
          "base_uri": "https://localhost:8080/"
        },
        "id": "iAoagd-U7JQV",
        "outputId": "83a3fc5f-84f6-470a-fa84-9b990eed73fb"
      },
      "outputs": [
        {
          "data": {
            "text/plain": [
              "2581509436.859606"
            ]
          },
          "execution_count": 20,
          "metadata": {},
          "output_type": "execute_result"
        }
      ],
      "source": [
        "from sklearn.ensemble import RandomForestRegressor\n",
        "\n",
        "rfReg = RandomForestRegressor(n_estimators=50)\n",
        "rfReg.fit(X_train, y_train)\n",
        "mean_squared_error(y_test, rfReg.predict(X_test))"
      ]
    },
    {
      "attachments": {},
      "cell_type": "markdown",
      "metadata": {
        "id": "zrU9qXLN8aIl"
      },
      "source": [
        "# NN/MLP"
      ]
    },
    {
      "cell_type": "code",
      "execution_count": 21,
      "metadata": {
        "colab": {
          "base_uri": "https://localhost:8080/",
          "height": 690
        },
        "id": "yqPWTJmk8bh8",
        "outputId": "73ee60ee-b51d-4e6c-d44b-687f2a4d26d3"
      },
      "outputs": [
        {
          "data": {
            "text/html": [
              "<pre style=\"white-space:pre;overflow-x:auto;line-height:normal;font-family:Menlo,'DejaVu Sans Mono',consolas,'Courier New',monospace\"><span style=\"font-weight: bold\">Model: \"functional\"</span>\n",
              "</pre>\n"
            ],
            "text/plain": [
              "\u001b[1mModel: \"functional\"\u001b[0m\n"
            ]
          },
          "metadata": {},
          "output_type": "display_data"
        },
        {
          "data": {
            "text/html": [
              "<pre style=\"white-space:pre;overflow-x:auto;line-height:normal;font-family:Menlo,'DejaVu Sans Mono',consolas,'Courier New',monospace\">┏━━━━━━━━━━━━━━━━━━━━━━━━━━━━━━━━━┳━━━━━━━━━━━━━━━━━━━━━━━━┳━━━━━━━━━━━━━━━┓\n",
              "┃<span style=\"font-weight: bold\"> Layer (type)                    </span>┃<span style=\"font-weight: bold\"> Output Shape           </span>┃<span style=\"font-weight: bold\">       Param # </span>┃\n",
              "┡━━━━━━━━━━━━━━━━━━━━━━━━━━━━━━━━━╇━━━━━━━━━━━━━━━━━━━━━━━━╇━━━━━━━━━━━━━━━┩\n",
              "│ input_layer (<span style=\"color: #0087ff; text-decoration-color: #0087ff\">InputLayer</span>)        │ (<span style=\"color: #00d7ff; text-decoration-color: #00d7ff\">None</span>, <span style=\"color: #00af00; text-decoration-color: #00af00\">8</span>)              │             <span style=\"color: #00af00; text-decoration-color: #00af00\">0</span> │\n",
              "├─────────────────────────────────┼────────────────────────┼───────────────┤\n",
              "│ dense (<span style=\"color: #0087ff; text-decoration-color: #0087ff\">Dense</span>)                   │ (<span style=\"color: #00d7ff; text-decoration-color: #00d7ff\">None</span>, <span style=\"color: #00af00; text-decoration-color: #00af00\">128</span>)            │         <span style=\"color: #00af00; text-decoration-color: #00af00\">1,152</span> │\n",
              "├─────────────────────────────────┼────────────────────────┼───────────────┤\n",
              "│ dense_1 (<span style=\"color: #0087ff; text-decoration-color: #0087ff\">Dense</span>)                 │ (<span style=\"color: #00d7ff; text-decoration-color: #00d7ff\">None</span>, <span style=\"color: #00af00; text-decoration-color: #00af00\">64</span>)             │         <span style=\"color: #00af00; text-decoration-color: #00af00\">8,256</span> │\n",
              "├─────────────────────────────────┼────────────────────────┼───────────────┤\n",
              "│ dense_2 (<span style=\"color: #0087ff; text-decoration-color: #0087ff\">Dense</span>)                 │ (<span style=\"color: #00d7ff; text-decoration-color: #00d7ff\">None</span>, <span style=\"color: #00af00; text-decoration-color: #00af00\">1</span>)              │            <span style=\"color: #00af00; text-decoration-color: #00af00\">65</span> │\n",
              "└─────────────────────────────────┴────────────────────────┴───────────────┘\n",
              "</pre>\n"
            ],
            "text/plain": [
              "┏━━━━━━━━━━━━━━━━━━━━━━━━━━━━━━━━━┳━━━━━━━━━━━━━━━━━━━━━━━━┳━━━━━━━━━━━━━━━┓\n",
              "┃\u001b[1m \u001b[0m\u001b[1mLayer (type)                   \u001b[0m\u001b[1m \u001b[0m┃\u001b[1m \u001b[0m\u001b[1mOutput Shape          \u001b[0m\u001b[1m \u001b[0m┃\u001b[1m \u001b[0m\u001b[1m      Param #\u001b[0m\u001b[1m \u001b[0m┃\n",
              "┡━━━━━━━━━━━━━━━━━━━━━━━━━━━━━━━━━╇━━━━━━━━━━━━━━━━━━━━━━━━╇━━━━━━━━━━━━━━━┩\n",
              "│ input_layer (\u001b[38;5;33mInputLayer\u001b[0m)        │ (\u001b[38;5;45mNone\u001b[0m, \u001b[38;5;34m8\u001b[0m)              │             \u001b[38;5;34m0\u001b[0m │\n",
              "├─────────────────────────────────┼────────────────────────┼───────────────┤\n",
              "│ dense (\u001b[38;5;33mDense\u001b[0m)                   │ (\u001b[38;5;45mNone\u001b[0m, \u001b[38;5;34m128\u001b[0m)            │         \u001b[38;5;34m1,152\u001b[0m │\n",
              "├─────────────────────────────────┼────────────────────────┼───────────────┤\n",
              "│ dense_1 (\u001b[38;5;33mDense\u001b[0m)                 │ (\u001b[38;5;45mNone\u001b[0m, \u001b[38;5;34m64\u001b[0m)             │         \u001b[38;5;34m8,256\u001b[0m │\n",
              "├─────────────────────────────────┼────────────────────────┼───────────────┤\n",
              "│ dense_2 (\u001b[38;5;33mDense\u001b[0m)                 │ (\u001b[38;5;45mNone\u001b[0m, \u001b[38;5;34m1\u001b[0m)              │            \u001b[38;5;34m65\u001b[0m │\n",
              "└─────────────────────────────────┴────────────────────────┴───────────────┘\n"
            ]
          },
          "metadata": {},
          "output_type": "display_data"
        },
        {
          "data": {
            "text/html": [
              "<pre style=\"white-space:pre;overflow-x:auto;line-height:normal;font-family:Menlo,'DejaVu Sans Mono',consolas,'Courier New',monospace\"><span style=\"font-weight: bold\"> Total params: </span><span style=\"color: #00af00; text-decoration-color: #00af00\">9,473</span> (37.00 KB)\n",
              "</pre>\n"
            ],
            "text/plain": [
              "\u001b[1m Total params: \u001b[0m\u001b[38;5;34m9,473\u001b[0m (37.00 KB)\n"
            ]
          },
          "metadata": {},
          "output_type": "display_data"
        },
        {
          "data": {
            "text/html": [
              "<pre style=\"white-space:pre;overflow-x:auto;line-height:normal;font-family:Menlo,'DejaVu Sans Mono',consolas,'Courier New',monospace\"><span style=\"font-weight: bold\"> Trainable params: </span><span style=\"color: #00af00; text-decoration-color: #00af00\">9,473</span> (37.00 KB)\n",
              "</pre>\n"
            ],
            "text/plain": [
              "\u001b[1m Trainable params: \u001b[0m\u001b[38;5;34m9,473\u001b[0m (37.00 KB)\n"
            ]
          },
          "metadata": {},
          "output_type": "display_data"
        },
        {
          "data": {
            "text/html": [
              "<pre style=\"white-space:pre;overflow-x:auto;line-height:normal;font-family:Menlo,'DejaVu Sans Mono',consolas,'Courier New',monospace\"><span style=\"font-weight: bold\"> Non-trainable params: </span><span style=\"color: #00af00; text-decoration-color: #00af00\">0</span> (0.00 B)\n",
              "</pre>\n"
            ],
            "text/plain": [
              "\u001b[1m Non-trainable params: \u001b[0m\u001b[38;5;34m0\u001b[0m (0.00 B)\n"
            ]
          },
          "metadata": {},
          "output_type": "display_data"
        },
        {
          "name": "stdout",
          "output_type": "stream",
          "text": [
            "None\n",
            "You must install pydot (`pip install pydot`) for `plot_model` to work.\n"
          ]
        }
      ],
      "source": [
        "from tensorflow import keras\n",
        "from keras.utils import plot_model\n",
        "from keras.models import Model\n",
        "from keras.layers import Input, Dense\n",
        "from keras.optimizers import Adam\n",
        "\n",
        "input = Input(shape=(X_train.shape[1],))\n",
        "hidden1 = Dense(128, activation=\"relu\")(input)\n",
        "hidden2 = Dense(64, activation=\"relu\")(hidden1)\n",
        "output = Dense(1)(hidden2)\n",
        "model = Model(inputs=input, outputs=output)\n",
        "\n",
        "print(model.summary())\n",
        "\n",
        "plot_model(model)"
      ]
    },
    {
      "cell_type": "code",
      "execution_count": 22,
      "metadata": {
        "id": "FV8w7ys5-mtj"
      },
      "outputs": [],
      "source": [
        "model.compile(optimizer=Adam(learning_rate=0.001), loss=\"mse\")"
      ]
    },
    {
      "cell_type": "code",
      "execution_count": 23,
      "metadata": {
        "colab": {
          "base_uri": "https://localhost:8080/"
        },
        "id": "uVP5ZKUD-Ub3",
        "outputId": "a2c740c3-0b9f-4a7f-fe62-7b3dece742dc"
      },
      "outputs": [
        {
          "name": "stdout",
          "output_type": "stream",
          "text": [
            "Epoch 1/10\n",
            "\u001b[1m398/398\u001b[0m \u001b[32m━━━━━━━━━━━━━━━━━━━━\u001b[0m\u001b[37m\u001b[0m \u001b[1m1s\u001b[0m 542us/step - loss: 35140665344.0000\n",
            "Epoch 2/10\n",
            "\u001b[1m398/398\u001b[0m \u001b[32m━━━━━━━━━━━━━━━━━━━━\u001b[0m\u001b[37m\u001b[0m \u001b[1m0s\u001b[0m 522us/step - loss: 15152521216.0000\n",
            "Epoch 3/10\n",
            "\u001b[1m398/398\u001b[0m \u001b[32m━━━━━━━━━━━━━━━━━━━━\u001b[0m\u001b[37m\u001b[0m \u001b[1m0s\u001b[0m 559us/step - loss: 12252641280.0000\n",
            "Epoch 4/10\n",
            "\u001b[1m398/398\u001b[0m \u001b[32m━━━━━━━━━━━━━━━━━━━━\u001b[0m\u001b[37m\u001b[0m \u001b[1m0s\u001b[0m 509us/step - loss: 9665876992.0000\n",
            "Epoch 5/10\n",
            "\u001b[1m398/398\u001b[0m \u001b[32m━━━━━━━━━━━━━━━━━━━━\u001b[0m\u001b[37m\u001b[0m \u001b[1m0s\u001b[0m 525us/step - loss: 9457273856.0000\n",
            "Epoch 6/10\n",
            "\u001b[1m398/398\u001b[0m \u001b[32m━━━━━━━━━━━━━━━━━━━━\u001b[0m\u001b[37m\u001b[0m \u001b[1m0s\u001b[0m 504us/step - loss: 9215456256.0000\n",
            "Epoch 7/10\n",
            "\u001b[1m398/398\u001b[0m \u001b[32m━━━━━━━━━━━━━━━━━━━━\u001b[0m\u001b[37m\u001b[0m \u001b[1m0s\u001b[0m 503us/step - loss: 9232124928.0000\n",
            "Epoch 8/10\n",
            "\u001b[1m398/398\u001b[0m \u001b[32m━━━━━━━━━━━━━━━━━━━━\u001b[0m\u001b[37m\u001b[0m \u001b[1m0s\u001b[0m 526us/step - loss: 8977666048.0000\n",
            "Epoch 9/10\n",
            "\u001b[1m398/398\u001b[0m \u001b[32m━━━━━━━━━━━━━━━━━━━━\u001b[0m\u001b[37m\u001b[0m \u001b[1m0s\u001b[0m 529us/step - loss: 9153216512.0000\n",
            "Epoch 10/10\n",
            "\u001b[1m398/398\u001b[0m \u001b[32m━━━━━━━━━━━━━━━━━━━━\u001b[0m\u001b[37m\u001b[0m \u001b[1m0s\u001b[0m 515us/step - loss: 8817568768.0000\n"
          ]
        }
      ],
      "source": [
        "train_result = model.fit(X_train,\n",
        "          y_train,\n",
        "          epochs=10,\n",
        "          batch_size=32)"
      ]
    },
    {
      "cell_type": "code",
      "execution_count": 24,
      "metadata": {
        "colab": {
          "base_uri": "https://localhost:8080/"
        },
        "id": "v5BaGaqL-7bM",
        "outputId": "bc08b2a9-8d4d-40f2-8253-ed7c00236e7a"
      },
      "outputs": [
        {
          "name": "stdout",
          "output_type": "stream",
          "text": [
            "\u001b[1m71/71\u001b[0m \u001b[32m━━━━━━━━━━━━━━━━━━━━\u001b[0m\u001b[37m\u001b[0m \u001b[1m0s\u001b[0m 471us/step - loss: 8483895808.0000\n"
          ]
        },
        {
          "data": {
            "text/plain": [
              "9073048576.0"
            ]
          },
          "execution_count": 24,
          "metadata": {},
          "output_type": "execute_result"
        }
      ],
      "source": [
        "model.evaluate(X_test, y_test)"
      ]
    },
    {
      "attachments": {},
      "cell_type": "markdown",
      "metadata": {
        "id": "187t1mqjrJOt"
      },
      "source": [
        "#Multi Layer Perceptron"
      ]
    },
    {
      "cell_type": "code",
      "execution_count": 25,
      "metadata": {
        "id": "_7Vl2SXgrMLZ"
      },
      "outputs": [],
      "source": [
        "from sklearn.neural_network import MLPRegressor"
      ]
    },
    {
      "cell_type": "code",
      "execution_count": 26,
      "metadata": {
        "id": "0DDNcltmrPe-"
      },
      "outputs": [],
      "source": [
        "MLP = MLPRegressor(random_state=42)"
      ]
    },
    {
      "cell_type": "code",
      "execution_count": 27,
      "metadata": {
        "colab": {
          "base_uri": "https://localhost:8080/",
          "height": 130
        },
        "id": "7tJTOgberYmG",
        "outputId": "f1f0aa18-5615-49c9-e2e7-b2caa60f4200"
      },
      "outputs": [
        {
          "name": "stderr",
          "output_type": "stream",
          "text": [
            "c:\\python\\Lib\\site-packages\\sklearn\\neural_network\\_multilayer_perceptron.py:691: ConvergenceWarning: Stochastic Optimizer: Maximum iterations (200) reached and the optimization hasn't converged yet.\n",
            "  warnings.warn(\n"
          ]
        },
        {
          "data": {
            "text/html": [
              "<style>#sk-container-id-1 {\n",
              "  /* Definition of color scheme common for light and dark mode */\n",
              "  --sklearn-color-text: black;\n",
              "  --sklearn-color-line: gray;\n",
              "  /* Definition of color scheme for unfitted estimators */\n",
              "  --sklearn-color-unfitted-level-0: #fff5e6;\n",
              "  --sklearn-color-unfitted-level-1: #f6e4d2;\n",
              "  --sklearn-color-unfitted-level-2: #ffe0b3;\n",
              "  --sklearn-color-unfitted-level-3: chocolate;\n",
              "  /* Definition of color scheme for fitted estimators */\n",
              "  --sklearn-color-fitted-level-0: #f0f8ff;\n",
              "  --sklearn-color-fitted-level-1: #d4ebff;\n",
              "  --sklearn-color-fitted-level-2: #b3dbfd;\n",
              "  --sklearn-color-fitted-level-3: cornflowerblue;\n",
              "\n",
              "  /* Specific color for light theme */\n",
              "  --sklearn-color-text-on-default-background: var(--sg-text-color, var(--theme-code-foreground, var(--jp-content-font-color1, black)));\n",
              "  --sklearn-color-background: var(--sg-background-color, var(--theme-background, var(--jp-layout-color0, white)));\n",
              "  --sklearn-color-border-box: var(--sg-text-color, var(--theme-code-foreground, var(--jp-content-font-color1, black)));\n",
              "  --sklearn-color-icon: #696969;\n",
              "\n",
              "  @media (prefers-color-scheme: dark) {\n",
              "    /* Redefinition of color scheme for dark theme */\n",
              "    --sklearn-color-text-on-default-background: var(--sg-text-color, var(--theme-code-foreground, var(--jp-content-font-color1, white)));\n",
              "    --sklearn-color-background: var(--sg-background-color, var(--theme-background, var(--jp-layout-color0, #111)));\n",
              "    --sklearn-color-border-box: var(--sg-text-color, var(--theme-code-foreground, var(--jp-content-font-color1, white)));\n",
              "    --sklearn-color-icon: #878787;\n",
              "  }\n",
              "}\n",
              "\n",
              "#sk-container-id-1 {\n",
              "  color: var(--sklearn-color-text);\n",
              "}\n",
              "\n",
              "#sk-container-id-1 pre {\n",
              "  padding: 0;\n",
              "}\n",
              "\n",
              "#sk-container-id-1 input.sk-hidden--visually {\n",
              "  border: 0;\n",
              "  clip: rect(1px 1px 1px 1px);\n",
              "  clip: rect(1px, 1px, 1px, 1px);\n",
              "  height: 1px;\n",
              "  margin: -1px;\n",
              "  overflow: hidden;\n",
              "  padding: 0;\n",
              "  position: absolute;\n",
              "  width: 1px;\n",
              "}\n",
              "\n",
              "#sk-container-id-1 div.sk-dashed-wrapped {\n",
              "  border: 1px dashed var(--sklearn-color-line);\n",
              "  margin: 0 0.4em 0.5em 0.4em;\n",
              "  box-sizing: border-box;\n",
              "  padding-bottom: 0.4em;\n",
              "  background-color: var(--sklearn-color-background);\n",
              "}\n",
              "\n",
              "#sk-container-id-1 div.sk-container {\n",
              "  /* jupyter's `normalize.less` sets `[hidden] { display: none; }`\n",
              "     but bootstrap.min.css set `[hidden] { display: none !important; }`\n",
              "     so we also need the `!important` here to be able to override the\n",
              "     default hidden behavior on the sphinx rendered scikit-learn.org.\n",
              "     See: https://github.com/scikit-learn/scikit-learn/issues/21755 */\n",
              "  display: inline-block !important;\n",
              "  position: relative;\n",
              "}\n",
              "\n",
              "#sk-container-id-1 div.sk-text-repr-fallback {\n",
              "  display: none;\n",
              "}\n",
              "\n",
              "div.sk-parallel-item,\n",
              "div.sk-serial,\n",
              "div.sk-item {\n",
              "  /* draw centered vertical line to link estimators */\n",
              "  background-image: linear-gradient(var(--sklearn-color-text-on-default-background), var(--sklearn-color-text-on-default-background));\n",
              "  background-size: 2px 100%;\n",
              "  background-repeat: no-repeat;\n",
              "  background-position: center center;\n",
              "}\n",
              "\n",
              "/* Parallel-specific style estimator block */\n",
              "\n",
              "#sk-container-id-1 div.sk-parallel-item::after {\n",
              "  content: \"\";\n",
              "  width: 100%;\n",
              "  border-bottom: 2px solid var(--sklearn-color-text-on-default-background);\n",
              "  flex-grow: 1;\n",
              "}\n",
              "\n",
              "#sk-container-id-1 div.sk-parallel {\n",
              "  display: flex;\n",
              "  align-items: stretch;\n",
              "  justify-content: center;\n",
              "  background-color: var(--sklearn-color-background);\n",
              "  position: relative;\n",
              "}\n",
              "\n",
              "#sk-container-id-1 div.sk-parallel-item {\n",
              "  display: flex;\n",
              "  flex-direction: column;\n",
              "}\n",
              "\n",
              "#sk-container-id-1 div.sk-parallel-item:first-child::after {\n",
              "  align-self: flex-end;\n",
              "  width: 50%;\n",
              "}\n",
              "\n",
              "#sk-container-id-1 div.sk-parallel-item:last-child::after {\n",
              "  align-self: flex-start;\n",
              "  width: 50%;\n",
              "}\n",
              "\n",
              "#sk-container-id-1 div.sk-parallel-item:only-child::after {\n",
              "  width: 0;\n",
              "}\n",
              "\n",
              "/* Serial-specific style estimator block */\n",
              "\n",
              "#sk-container-id-1 div.sk-serial {\n",
              "  display: flex;\n",
              "  flex-direction: column;\n",
              "  align-items: center;\n",
              "  background-color: var(--sklearn-color-background);\n",
              "  padding-right: 1em;\n",
              "  padding-left: 1em;\n",
              "}\n",
              "\n",
              "\n",
              "/* Toggleable style: style used for estimator/Pipeline/ColumnTransformer box that is\n",
              "clickable and can be expanded/collapsed.\n",
              "- Pipeline and ColumnTransformer use this feature and define the default style\n",
              "- Estimators will overwrite some part of the style using the `sk-estimator` class\n",
              "*/\n",
              "\n",
              "/* Pipeline and ColumnTransformer style (default) */\n",
              "\n",
              "#sk-container-id-1 div.sk-toggleable {\n",
              "  /* Default theme specific background. It is overwritten whether we have a\n",
              "  specific estimator or a Pipeline/ColumnTransformer */\n",
              "  background-color: var(--sklearn-color-background);\n",
              "}\n",
              "\n",
              "/* Toggleable label */\n",
              "#sk-container-id-1 label.sk-toggleable__label {\n",
              "  cursor: pointer;\n",
              "  display: block;\n",
              "  width: 100%;\n",
              "  margin-bottom: 0;\n",
              "  padding: 0.5em;\n",
              "  box-sizing: border-box;\n",
              "  text-align: center;\n",
              "}\n",
              "\n",
              "#sk-container-id-1 label.sk-toggleable__label-arrow:before {\n",
              "  /* Arrow on the left of the label */\n",
              "  content: \"▸\";\n",
              "  float: left;\n",
              "  margin-right: 0.25em;\n",
              "  color: var(--sklearn-color-icon);\n",
              "}\n",
              "\n",
              "#sk-container-id-1 label.sk-toggleable__label-arrow:hover:before {\n",
              "  color: var(--sklearn-color-text);\n",
              "}\n",
              "\n",
              "/* Toggleable content - dropdown */\n",
              "\n",
              "#sk-container-id-1 div.sk-toggleable__content {\n",
              "  max-height: 0;\n",
              "  max-width: 0;\n",
              "  overflow: hidden;\n",
              "  text-align: left;\n",
              "  /* unfitted */\n",
              "  background-color: var(--sklearn-color-unfitted-level-0);\n",
              "}\n",
              "\n",
              "#sk-container-id-1 div.sk-toggleable__content.fitted {\n",
              "  /* fitted */\n",
              "  background-color: var(--sklearn-color-fitted-level-0);\n",
              "}\n",
              "\n",
              "#sk-container-id-1 div.sk-toggleable__content pre {\n",
              "  margin: 0.2em;\n",
              "  border-radius: 0.25em;\n",
              "  color: var(--sklearn-color-text);\n",
              "  /* unfitted */\n",
              "  background-color: var(--sklearn-color-unfitted-level-0);\n",
              "}\n",
              "\n",
              "#sk-container-id-1 div.sk-toggleable__content.fitted pre {\n",
              "  /* unfitted */\n",
              "  background-color: var(--sklearn-color-fitted-level-0);\n",
              "}\n",
              "\n",
              "#sk-container-id-1 input.sk-toggleable__control:checked~div.sk-toggleable__content {\n",
              "  /* Expand drop-down */\n",
              "  max-height: 200px;\n",
              "  max-width: 100%;\n",
              "  overflow: auto;\n",
              "}\n",
              "\n",
              "#sk-container-id-1 input.sk-toggleable__control:checked~label.sk-toggleable__label-arrow:before {\n",
              "  content: \"▾\";\n",
              "}\n",
              "\n",
              "/* Pipeline/ColumnTransformer-specific style */\n",
              "\n",
              "#sk-container-id-1 div.sk-label input.sk-toggleable__control:checked~label.sk-toggleable__label {\n",
              "  color: var(--sklearn-color-text);\n",
              "  background-color: var(--sklearn-color-unfitted-level-2);\n",
              "}\n",
              "\n",
              "#sk-container-id-1 div.sk-label.fitted input.sk-toggleable__control:checked~label.sk-toggleable__label {\n",
              "  background-color: var(--sklearn-color-fitted-level-2);\n",
              "}\n",
              "\n",
              "/* Estimator-specific style */\n",
              "\n",
              "/* Colorize estimator box */\n",
              "#sk-container-id-1 div.sk-estimator input.sk-toggleable__control:checked~label.sk-toggleable__label {\n",
              "  /* unfitted */\n",
              "  background-color: var(--sklearn-color-unfitted-level-2);\n",
              "}\n",
              "\n",
              "#sk-container-id-1 div.sk-estimator.fitted input.sk-toggleable__control:checked~label.sk-toggleable__label {\n",
              "  /* fitted */\n",
              "  background-color: var(--sklearn-color-fitted-level-2);\n",
              "}\n",
              "\n",
              "#sk-container-id-1 div.sk-label label.sk-toggleable__label,\n",
              "#sk-container-id-1 div.sk-label label {\n",
              "  /* The background is the default theme color */\n",
              "  color: var(--sklearn-color-text-on-default-background);\n",
              "}\n",
              "\n",
              "/* On hover, darken the color of the background */\n",
              "#sk-container-id-1 div.sk-label:hover label.sk-toggleable__label {\n",
              "  color: var(--sklearn-color-text);\n",
              "  background-color: var(--sklearn-color-unfitted-level-2);\n",
              "}\n",
              "\n",
              "/* Label box, darken color on hover, fitted */\n",
              "#sk-container-id-1 div.sk-label.fitted:hover label.sk-toggleable__label.fitted {\n",
              "  color: var(--sklearn-color-text);\n",
              "  background-color: var(--sklearn-color-fitted-level-2);\n",
              "}\n",
              "\n",
              "/* Estimator label */\n",
              "\n",
              "#sk-container-id-1 div.sk-label label {\n",
              "  font-family: monospace;\n",
              "  font-weight: bold;\n",
              "  display: inline-block;\n",
              "  line-height: 1.2em;\n",
              "}\n",
              "\n",
              "#sk-container-id-1 div.sk-label-container {\n",
              "  text-align: center;\n",
              "}\n",
              "\n",
              "/* Estimator-specific */\n",
              "#sk-container-id-1 div.sk-estimator {\n",
              "  font-family: monospace;\n",
              "  border: 1px dotted var(--sklearn-color-border-box);\n",
              "  border-radius: 0.25em;\n",
              "  box-sizing: border-box;\n",
              "  margin-bottom: 0.5em;\n",
              "  /* unfitted */\n",
              "  background-color: var(--sklearn-color-unfitted-level-0);\n",
              "}\n",
              "\n",
              "#sk-container-id-1 div.sk-estimator.fitted {\n",
              "  /* fitted */\n",
              "  background-color: var(--sklearn-color-fitted-level-0);\n",
              "}\n",
              "\n",
              "/* on hover */\n",
              "#sk-container-id-1 div.sk-estimator:hover {\n",
              "  /* unfitted */\n",
              "  background-color: var(--sklearn-color-unfitted-level-2);\n",
              "}\n",
              "\n",
              "#sk-container-id-1 div.sk-estimator.fitted:hover {\n",
              "  /* fitted */\n",
              "  background-color: var(--sklearn-color-fitted-level-2);\n",
              "}\n",
              "\n",
              "/* Specification for estimator info (e.g. \"i\" and \"?\") */\n",
              "\n",
              "/* Common style for \"i\" and \"?\" */\n",
              "\n",
              ".sk-estimator-doc-link,\n",
              "a:link.sk-estimator-doc-link,\n",
              "a:visited.sk-estimator-doc-link {\n",
              "  float: right;\n",
              "  font-size: smaller;\n",
              "  line-height: 1em;\n",
              "  font-family: monospace;\n",
              "  background-color: var(--sklearn-color-background);\n",
              "  border-radius: 1em;\n",
              "  height: 1em;\n",
              "  width: 1em;\n",
              "  text-decoration: none !important;\n",
              "  margin-left: 1ex;\n",
              "  /* unfitted */\n",
              "  border: var(--sklearn-color-unfitted-level-1) 1pt solid;\n",
              "  color: var(--sklearn-color-unfitted-level-1);\n",
              "}\n",
              "\n",
              ".sk-estimator-doc-link.fitted,\n",
              "a:link.sk-estimator-doc-link.fitted,\n",
              "a:visited.sk-estimator-doc-link.fitted {\n",
              "  /* fitted */\n",
              "  border: var(--sklearn-color-fitted-level-1) 1pt solid;\n",
              "  color: var(--sklearn-color-fitted-level-1);\n",
              "}\n",
              "\n",
              "/* On hover */\n",
              "div.sk-estimator:hover .sk-estimator-doc-link:hover,\n",
              ".sk-estimator-doc-link:hover,\n",
              "div.sk-label-container:hover .sk-estimator-doc-link:hover,\n",
              ".sk-estimator-doc-link:hover {\n",
              "  /* unfitted */\n",
              "  background-color: var(--sklearn-color-unfitted-level-3);\n",
              "  color: var(--sklearn-color-background);\n",
              "  text-decoration: none;\n",
              "}\n",
              "\n",
              "div.sk-estimator.fitted:hover .sk-estimator-doc-link.fitted:hover,\n",
              ".sk-estimator-doc-link.fitted:hover,\n",
              "div.sk-label-container:hover .sk-estimator-doc-link.fitted:hover,\n",
              ".sk-estimator-doc-link.fitted:hover {\n",
              "  /* fitted */\n",
              "  background-color: var(--sklearn-color-fitted-level-3);\n",
              "  color: var(--sklearn-color-background);\n",
              "  text-decoration: none;\n",
              "}\n",
              "\n",
              "/* Span, style for the box shown on hovering the info icon */\n",
              ".sk-estimator-doc-link span {\n",
              "  display: none;\n",
              "  z-index: 9999;\n",
              "  position: relative;\n",
              "  font-weight: normal;\n",
              "  right: .2ex;\n",
              "  padding: .5ex;\n",
              "  margin: .5ex;\n",
              "  width: min-content;\n",
              "  min-width: 20ex;\n",
              "  max-width: 50ex;\n",
              "  color: var(--sklearn-color-text);\n",
              "  box-shadow: 2pt 2pt 4pt #999;\n",
              "  /* unfitted */\n",
              "  background: var(--sklearn-color-unfitted-level-0);\n",
              "  border: .5pt solid var(--sklearn-color-unfitted-level-3);\n",
              "}\n",
              "\n",
              ".sk-estimator-doc-link.fitted span {\n",
              "  /* fitted */\n",
              "  background: var(--sklearn-color-fitted-level-0);\n",
              "  border: var(--sklearn-color-fitted-level-3);\n",
              "}\n",
              "\n",
              ".sk-estimator-doc-link:hover span {\n",
              "  display: block;\n",
              "}\n",
              "\n",
              "/* \"?\"-specific style due to the `<a>` HTML tag */\n",
              "\n",
              "#sk-container-id-1 a.estimator_doc_link {\n",
              "  float: right;\n",
              "  font-size: 1rem;\n",
              "  line-height: 1em;\n",
              "  font-family: monospace;\n",
              "  background-color: var(--sklearn-color-background);\n",
              "  border-radius: 1rem;\n",
              "  height: 1rem;\n",
              "  width: 1rem;\n",
              "  text-decoration: none;\n",
              "  /* unfitted */\n",
              "  color: var(--sklearn-color-unfitted-level-1);\n",
              "  border: var(--sklearn-color-unfitted-level-1) 1pt solid;\n",
              "}\n",
              "\n",
              "#sk-container-id-1 a.estimator_doc_link.fitted {\n",
              "  /* fitted */\n",
              "  border: var(--sklearn-color-fitted-level-1) 1pt solid;\n",
              "  color: var(--sklearn-color-fitted-level-1);\n",
              "}\n",
              "\n",
              "/* On hover */\n",
              "#sk-container-id-1 a.estimator_doc_link:hover {\n",
              "  /* unfitted */\n",
              "  background-color: var(--sklearn-color-unfitted-level-3);\n",
              "  color: var(--sklearn-color-background);\n",
              "  text-decoration: none;\n",
              "}\n",
              "\n",
              "#sk-container-id-1 a.estimator_doc_link.fitted:hover {\n",
              "  /* fitted */\n",
              "  background-color: var(--sklearn-color-fitted-level-3);\n",
              "}\n",
              "</style><div id=\"sk-container-id-1\" class=\"sk-top-container\"><div class=\"sk-text-repr-fallback\"><pre>MLPRegressor(random_state=42)</pre><b>In a Jupyter environment, please rerun this cell to show the HTML representation or trust the notebook. <br />On GitHub, the HTML representation is unable to render, please try loading this page with nbviewer.org.</b></div><div class=\"sk-container\" hidden><div class=\"sk-item\"><div class=\"sk-estimator fitted sk-toggleable\"><input class=\"sk-toggleable__control sk-hidden--visually\" id=\"sk-estimator-id-1\" type=\"checkbox\" checked><label for=\"sk-estimator-id-1\" class=\"sk-toggleable__label fitted sk-toggleable__label-arrow fitted\">&nbsp;&nbsp;MLPRegressor<a class=\"sk-estimator-doc-link fitted\" rel=\"noreferrer\" target=\"_blank\" href=\"https://scikit-learn.org/1.4/modules/generated/sklearn.neural_network.MLPRegressor.html\">?<span>Documentation for MLPRegressor</span></a><span class=\"sk-estimator-doc-link fitted\">i<span>Fitted</span></span></label><div class=\"sk-toggleable__content fitted\"><pre>MLPRegressor(random_state=42)</pre></div> </div></div></div></div>"
            ],
            "text/plain": [
              "MLPRegressor(random_state=42)"
            ]
          },
          "execution_count": 27,
          "metadata": {},
          "output_type": "execute_result"
        }
      ],
      "source": [
        "MLP.fit(X_train, y_train)"
      ]
    },
    {
      "cell_type": "code",
      "execution_count": 28,
      "metadata": {
        "colab": {
          "base_uri": "https://localhost:8080/"
        },
        "id": "Vag_JgQJrfE3",
        "outputId": "c42c558d-1bfa-4ca0-d0db-6dec55120d80"
      },
      "outputs": [
        {
          "name": "stdout",
          "output_type": "stream",
          "text": [
            "MLP Training RMSE: 92946.42\n",
            "MLP Training MAE: 72571.31\n"
          ]
        },
        {
          "name": "stderr",
          "output_type": "stream",
          "text": [
            "c:\\python\\Lib\\site-packages\\sklearn\\metrics\\_regression.py:483: FutureWarning: 'squared' is deprecated in version 1.4 and will be removed in 1.6. To calculate the root mean squared error, use the function'root_mean_squared_error'.\n",
            "  warnings.warn(\n"
          ]
        }
      ],
      "source": [
        "# predict on training set\n",
        "\n",
        "y_train_pred_MLP = MLP.predict(X_train)\n",
        "\n",
        "# get performance metrics for training set\n",
        "\n",
        "training_rmse_MLP = mean_squared_error(y_train, y_train_pred_MLP, squared=False)\n",
        "training_mae_MLP = mean_absolute_error(y_train, y_train_pred_MLP)\n",
        "\n",
        "print(f'MLP Training RMSE: {training_rmse_MLP:.2f}')\n",
        "print(f'MLP Training MAE: {training_mae_MLP:.2f}')"
      ]
    },
    {
      "attachments": {},
      "cell_type": "markdown",
      "metadata": {
        "id": "jaa__GUFIXfF"
      },
      "source": [
        "# Test All Regression Models on New Data"
      ]
    },
    {
      "cell_type": "code",
      "execution_count": 29,
      "metadata": {
        "colab": {
          "base_uri": "https://localhost:8080/"
        },
        "id": "usseQY62IdiV",
        "outputId": "18b8961c-a263-4839-babc-be01adb63a64"
      },
      "outputs": [
        {
          "data": {
            "text/plain": [
              "((3000, 8), (3000,))"
            ]
          },
          "execution_count": 29,
          "metadata": {},
          "output_type": "execute_result"
        }
      ],
      "source": [
        "X_new = df_test.iloc[:, 0:-1]\n",
        "y_new = df_test.iloc[:, -1]\n",
        "X_new.shape, y_new.shape"
      ]
    },
    {
      "cell_type": "code",
      "execution_count": 30,
      "metadata": {
        "colab": {
          "base_uri": "https://localhost:8080/"
        },
        "id": "Pmi88SOBIpsz",
        "outputId": "b3185edd-c82a-4ac0-dd0b-d457a838a5d4"
      },
      "outputs": [
        {
          "name": "stdout",
          "output_type": "stream",
          "text": [
            "\u001b[1m94/94\u001b[0m \u001b[32m━━━━━━━━━━━━━━━━━━━━\u001b[0m\u001b[37m\u001b[0m \u001b[1m0s\u001b[0m 458us/step - loss: 10774876160.0000\n"
          ]
        }
      ],
      "source": [
        "mseLinReg = mean_squared_error(y_new, linReg.predict(X_new))\n",
        "mseDtreeReg = mean_squared_error(y_new, dtreeReg.predict(X_new))\n",
        "mseSVReg = mean_squared_error(y_new, svReg.predict(X_new))\n",
        "mseXGBReg = mean_squared_error(y_new, xgbReg.predict(X_new))\n",
        "mseRfReg = mean_squared_error(y_new, rfReg.predict(X_new))\n",
        "mseNNReg = model.evaluate(X_new, y_new)"
      ]
    },
    {
      "cell_type": "code",
      "execution_count": 31,
      "metadata": {
        "colab": {
          "base_uri": "https://localhost:8080/"
        },
        "id": "JMP6BNLFJaDi",
        "outputId": "ebcf0c80-b576-4e0d-ee05-3d169073cbd5"
      },
      "outputs": [
        {
          "name": "stdout",
          "output_type": "stream",
          "text": [
            "MSE Linear Regression: 5566031385.981216\n",
            "MSE Single Decision Tree: 5263094533.714\n",
            "MSE Random Forest: 2766754240.08203\n",
            "MSE XGBoost: 2618908282.4264297\n",
            "MSE SVM: 43591759567.40389\n",
            "MSE NN/MLP: 10987891712.0\n"
          ]
        }
      ],
      "source": [
        "print(f\"MSE Linear Regression: {mseLinReg}\")\n",
        "print(f\"MSE Single Decision Tree: {mseDtreeReg}\")\n",
        "print(f\"MSE Random Forest: {mseRfReg}\")\n",
        "print(f\"MSE XGBoost: {mseXGBReg}\")\n",
        "print(f\"MSE SVM: {mseSVReg}\")\n",
        "print(f\"MSE NN/MLP: {mseNNReg}\")"
      ]
    },
    {
      "cell_type": "code",
      "execution_count": 32,
      "metadata": {},
      "outputs": [],
      "source": [
        "# Save the model to a file\n",
        "import pickle\n",
        "with open('house_xgb_model.pkl', 'wb') as file:\n",
        "    pickle.dump(xgbReg, file)"
      ]
    },
    {
      "cell_type": "code",
      "execution_count": 33,
      "metadata": {},
      "outputs": [
        {
          "name": "stdout",
          "output_type": "stream",
          "text": [
            "[442591.7  182283.53 279439.   ...  71310.6  267484.5  516662.97]\n"
          ]
        }
      ],
      "source": [
        "# Load the model from the file\n",
        "with open('house_xgb_model.pkl', 'rb') as file:\n",
        "    loaded_model = pickle.load(file)\n",
        "\n",
        "# Now you can use the loaded model for predictions\n",
        "predictions = loaded_model.predict(X_new)\n",
        "print(predictions)"
      ]
    },
    {
      "cell_type": "code",
      "execution_count": 34,
      "metadata": {},
      "outputs": [
        {
          "name": "stdout",
          "output_type": "stream",
          "text": [
            "[442591.7  182283.53 279439.   ...  71310.6  267484.5  516662.97]\n"
          ]
        }
      ],
      "source": [
        "import joblib\n",
        "# Save the Model using joblib.dump()\n",
        "joblib.dump(xgbReg, 'house_xgb_model.joblib')\n",
        "\n",
        "# Load the Model using joblib.load() \n",
        "loaded_modelxgb = joblib.load('house_xgb_model.joblib')\n",
        "\n",
        "# Make Predictions with the Loaded Model\n",
        "predictions = loaded_modelxgb.predict(X_new)\n",
        "print(predictions)"
      ]
    },
    {
      "cell_type": "code",
      "execution_count": 36,
      "metadata": {},
      "outputs": [
        {
          "name": "stdout",
          "output_type": "stream",
          "text": [
            "Note: you may need to restart the kernel to use updated packages.Collecting shap\n",
            "  Downloading shap-0.46.0-cp312-cp312-win_amd64.whl.metadata (25 kB)\n",
            "Requirement already satisfied: numpy in c:\\python\\lib\\site-packages (from shap) (1.26.4)\n",
            "Requirement already satisfied: scipy in c:\\python\\lib\\site-packages (from shap) (1.12.0)\n",
            "Requirement already satisfied: scikit-learn in c:\\python\\lib\\site-packages (from shap) (1.4.1.post1)\n",
            "Requirement already satisfied: pandas in c:\\python\\lib\\site-packages (from shap) (2.1.3)\n",
            "Requirement already satisfied: tqdm>=4.27.0 in c:\\python\\lib\\site-packages (from shap) (4.66.2)\n",
            "Requirement already satisfied: packaging>20.9 in c:\\python\\lib\\site-packages (from shap) (23.2)\n",
            "Collecting slicer==0.0.8 (from shap)\n",
            "  Downloading slicer-0.0.8-py3-none-any.whl.metadata (4.0 kB)\n",
            "Collecting numba (from shap)\n",
            "  Downloading numba-0.60.0-cp312-cp312-win_amd64.whl.metadata (2.8 kB)\n",
            "Collecting cloudpickle (from shap)\n",
            "  Downloading cloudpickle-3.0.0-py3-none-any.whl.metadata (7.0 kB)\n",
            "Requirement already satisfied: colorama in c:\\python\\lib\\site-packages (from tqdm>=4.27.0->shap) (0.4.6)\n",
            "Collecting llvmlite<0.44,>=0.43.0dev0 (from numba->shap)\n",
            "  Downloading llvmlite-0.43.0-cp312-cp312-win_amd64.whl.metadata (4.9 kB)\n",
            "Requirement already satisfied: python-dateutil>=2.8.2 in c:\\python\\lib\\site-packages (from pandas->shap) (2.9.0.post0)\n",
            "Requirement already satisfied: pytz>=2020.1 in c:\\python\\lib\\site-packages (from pandas->shap) (2024.1)\n",
            "Requirement already satisfied: tzdata>=2022.1 in c:\\python\\lib\\site-packages (from pandas->shap) (2024.1)\n",
            "Requirement already satisfied: joblib>=1.2.0 in c:\\python\\lib\\site-packages (from scikit-learn->shap) (1.3.2)\n",
            "Requirement already satisfied: threadpoolctl>=2.0.0 in c:\\python\\lib\\site-packages (from scikit-learn->shap) (3.4.0)\n",
            "Requirement already satisfied: six>=1.5 in c:\\python\\lib\\site-packages (from python-dateutil>=2.8.2->pandas->shap) (1.16.0)\n",
            "Downloading shap-0.46.0-cp312-cp312-win_amd64.whl (456 kB)\n",
            "   ---------------------------------------- 0.0/456.2 kB ? eta -:--:--\n",
            "   ---------- ----------------------------- 122.9/456.2 kB 3.5 MB/s eta 0:00:01\n",
            "   -------------------- ------------------- 235.5/456.2 kB 3.6 MB/s eta 0:00:01\n",
            "   ------------------------------ --------- 348.2/456.2 kB 2.7 MB/s eta 0:00:01\n",
            "   ---------------------------------------- 456.2/456.2 kB 2.6 MB/s eta 0:00:00\n",
            "Downloading slicer-0.0.8-py3-none-any.whl (15 kB)\n",
            "Downloading cloudpickle-3.0.0-py3-none-any.whl (20 kB)\n",
            "Downloading numba-0.60.0-cp312-cp312-win_amd64.whl (2.7 MB)\n",
            "   ---------------------------------------- 0.0/2.7 MB ? eta -:--:--\n",
            "   --- ------------------------------------ 0.2/2.7 MB 4.6 MB/s eta 0:00:01\n",
            "   ----- ---------------------------------- 0.4/2.7 MB 4.0 MB/s eta 0:00:01\n",
            "   -------- ------------------------------- 0.6/2.7 MB 4.1 MB/s eta 0:00:01\n",
            "   ----------- ---------------------------- 0.8/2.7 MB 4.1 MB/s eta 0:00:01\n",
            "   ------------ --------------------------- 0.8/2.7 MB 4.0 MB/s eta 0:00:01\n",
            "   -------------- ------------------------- 1.0/2.7 MB 3.5 MB/s eta 0:00:01\n",
            "   ----------------- ---------------------- 1.2/2.7 MB 3.6 MB/s eta 0:00:01\n",
            "   -------------------- ------------------- 1.4/2.7 MB 3.6 MB/s eta 0:00:01\n",
            "   --------------------- ------------------ 1.5/2.7 MB 3.6 MB/s eta 0:00:01\n",
            "   ----------------------- ---------------- 1.6/2.7 MB 3.4 MB/s eta 0:00:01\n",
            "   ------------------------ --------------- 1.7/2.7 MB 3.4 MB/s eta 0:00:01\n",
            "   --------------------------- ------------ 1.9/2.7 MB 3.4 MB/s eta 0:00:01\n",
            "   ----------------------------- ---------- 2.0/2.7 MB 3.3 MB/s eta 0:00:01\n",
            "   ------------------------------ --------- 2.0/2.7 MB 3.1 MB/s eta 0:00:01\n",
            "   ------------------------------- -------- 2.1/2.7 MB 3.0 MB/s eta 0:00:01\n",
            "   ---------------------------------- ----- 2.3/2.7 MB 3.1 MB/s eta 0:00:01\n",
            "   ------------------------------------ --- 2.4/2.7 MB 3.0 MB/s eta 0:00:01\n",
            "   ------------------------------------ --- 2.5/2.7 MB 3.0 MB/s eta 0:00:01\n",
            "   ------------------------------------- -- 2.5/2.7 MB 2.9 MB/s eta 0:00:01\n",
            "   ---------------------------------------  2.7/2.7 MB 2.8 MB/s eta 0:00:01\n",
            "   ---------------------------------------- 2.7/2.7 MB 2.8 MB/s eta 0:00:00\n",
            "Downloading llvmlite-0.43.0-cp312-cp312-win_amd64.whl (28.1 MB)\n",
            "   ---------------------------------------- 0.0/28.1 MB ? eta -:--:--\n",
            "   ---------------------------------------- 0.1/28.1 MB 3.0 MB/s eta 0:00:10\n",
            "   ---------------------------------------- 0.2/28.1 MB 2.2 MB/s eta 0:00:13\n",
            "   ---------------------------------------- 0.3/28.1 MB 2.1 MB/s eta 0:00:14\n",
            "    --------------------------------------- 0.5/28.1 MB 2.6 MB/s eta 0:00:11\n",
            "    --------------------------------------- 0.7/28.1 MB 3.0 MB/s eta 0:00:10\n",
            "   - -------------------------------------- 0.8/28.1 MB 2.9 MB/s eta 0:00:10\n",
            "   - -------------------------------------- 0.9/28.1 MB 3.0 MB/s eta 0:00:10\n",
            "   - -------------------------------------- 1.1/28.1 MB 2.9 MB/s eta 0:00:10\n",
            "   - -------------------------------------- 1.3/28.1 MB 3.1 MB/s eta 0:00:09\n",
            "   -- ------------------------------------- 1.5/28.1 MB 3.2 MB/s eta 0:00:09\n",
            "   -- ------------------------------------- 1.7/28.1 MB 3.3 MB/s eta 0:00:08\n",
            "   -- ------------------------------------- 1.9/28.1 MB 3.4 MB/s eta 0:00:08\n",
            "   --- ------------------------------------ 2.1/28.1 MB 3.5 MB/s eta 0:00:08\n",
            "   --- ------------------------------------ 2.3/28.1 MB 3.6 MB/s eta 0:00:08\n",
            "   --- ------------------------------------ 2.4/28.1 MB 3.4 MB/s eta 0:00:08\n",
            "   --- ------------------------------------ 2.6/28.1 MB 3.5 MB/s eta 0:00:08\n",
            "   --- ------------------------------------ 2.6/28.1 MB 3.5 MB/s eta 0:00:08\n",
            "   --- ------------------------------------ 2.7/28.1 MB 3.3 MB/s eta 0:00:08\n",
            "   ---- ----------------------------------- 2.9/28.1 MB 3.3 MB/s eta 0:00:08\n",
            "   ---- ----------------------------------- 3.0/28.1 MB 3.3 MB/s eta 0:00:08\n",
            "   ---- ----------------------------------- 3.2/28.1 MB 3.3 MB/s eta 0:00:08\n",
            "   ---- ----------------------------------- 3.4/28.1 MB 3.3 MB/s eta 0:00:08\n",
            "   ----- ---------------------------------- 3.6/28.1 MB 3.3 MB/s eta 0:00:08\n",
            "   ----- ---------------------------------- 3.7/28.1 MB 3.4 MB/s eta 0:00:08\n",
            "   ----- ---------------------------------- 3.9/28.1 MB 3.4 MB/s eta 0:00:08\n",
            "   ----- ---------------------------------- 4.0/28.1 MB 3.3 MB/s eta 0:00:08\n",
            "   ----- ---------------------------------- 4.2/28.1 MB 3.3 MB/s eta 0:00:08\n",
            "   ------ --------------------------------- 4.3/28.1 MB 3.3 MB/s eta 0:00:08\n",
            "   ------ --------------------------------- 4.5/28.1 MB 3.3 MB/s eta 0:00:08\n",
            "   ------ --------------------------------- 4.6/28.1 MB 3.3 MB/s eta 0:00:08\n",
            "   ------ --------------------------------- 4.8/28.1 MB 3.3 MB/s eta 0:00:07\n",
            "   ------ --------------------------------- 4.9/28.1 MB 3.4 MB/s eta 0:00:07\n",
            "   ------- -------------------------------- 5.0/28.1 MB 3.3 MB/s eta 0:00:08\n",
            "   ------- -------------------------------- 5.1/28.1 MB 3.2 MB/s eta 0:00:08\n",
            "   ------- -------------------------------- 5.3/28.1 MB 3.2 MB/s eta 0:00:08\n",
            "   ------- -------------------------------- 5.5/28.1 MB 3.3 MB/s eta 0:00:07\n",
            "   ------- -------------------------------- 5.6/28.1 MB 3.3 MB/s eta 0:00:07\n",
            "   -------- ------------------------------- 5.7/28.1 MB 3.2 MB/s eta 0:00:07\n",
            "   -------- ------------------------------- 5.9/28.1 MB 3.3 MB/s eta 0:00:07\n",
            "   -------- ------------------------------- 5.9/28.1 MB 3.3 MB/s eta 0:00:07\n",
            "   -------- ------------------------------- 5.9/28.1 MB 3.3 MB/s eta 0:00:07\n",
            "   -------- ------------------------------- 6.1/28.1 MB 3.1 MB/s eta 0:00:08\n",
            "   -------- ------------------------------- 6.2/28.1 MB 3.1 MB/s eta 0:00:08\n",
            "   -------- ------------------------------- 6.3/28.1 MB 3.1 MB/s eta 0:00:08\n",
            "   --------- ------------------------------ 6.5/28.1 MB 3.1 MB/s eta 0:00:08\n",
            "   --------- ------------------------------ 6.6/28.1 MB 3.1 MB/s eta 0:00:08\n",
            "   --------- ------------------------------ 6.8/28.1 MB 3.1 MB/s eta 0:00:07\n",
            "   --------- ------------------------------ 6.9/28.1 MB 3.1 MB/s eta 0:00:07\n",
            "   ---------- ----------------------------- 7.1/28.1 MB 3.1 MB/s eta 0:00:07\n",
            "   ---------- ----------------------------- 7.2/28.1 MB 3.1 MB/s eta 0:00:07\n",
            "   ---------- ----------------------------- 7.2/28.1 MB 3.0 MB/s eta 0:00:07\n",
            "   ---------- ----------------------------- 7.5/28.1 MB 3.1 MB/s eta 0:00:07\n",
            "   ---------- ----------------------------- 7.6/28.1 MB 3.1 MB/s eta 0:00:07\n",
            "   ----------- ---------------------------- 7.8/28.1 MB 3.1 MB/s eta 0:00:07\n",
            "   ----------- ---------------------------- 8.0/28.1 MB 3.1 MB/s eta 0:00:07\n",
            "   ----------- ---------------------------- 8.0/28.1 MB 3.1 MB/s eta 0:00:07\n",
            "   ----------- ---------------------------- 8.2/28.1 MB 3.1 MB/s eta 0:00:07\n",
            "   ----------- ---------------------------- 8.4/28.1 MB 3.1 MB/s eta 0:00:07\n",
            "   ------------ --------------------------- 8.6/28.1 MB 3.1 MB/s eta 0:00:07\n",
            "   ------------ --------------------------- 8.8/28.1 MB 3.1 MB/s eta 0:00:07\n",
            "   ------------ --------------------------- 8.9/28.1 MB 3.1 MB/s eta 0:00:07\n",
            "   ------------- -------------------------- 9.2/28.1 MB 3.2 MB/s eta 0:00:07\n",
            "   ------------- -------------------------- 9.2/28.1 MB 3.1 MB/s eta 0:00:07\n",
            "   ------------- -------------------------- 9.4/28.1 MB 3.1 MB/s eta 0:00:07\n",
            "   ------------- -------------------------- 9.4/28.1 MB 3.1 MB/s eta 0:00:06\n",
            "   ------------- -------------------------- 9.5/28.1 MB 3.1 MB/s eta 0:00:07\n",
            "   ------------- -------------------------- 9.6/28.1 MB 3.1 MB/s eta 0:00:07\n",
            "   ------------- -------------------------- 9.7/28.1 MB 3.0 MB/s eta 0:00:07\n",
            "   ------------- -------------------------- 9.8/28.1 MB 3.1 MB/s eta 0:00:06\n",
            "   -------------- ------------------------- 9.9/28.1 MB 3.0 MB/s eta 0:00:06\n",
            "   -------------- ------------------------- 10.1/28.1 MB 3.0 MB/s eta 0:00:06\n",
            "   -------------- ------------------------- 10.3/28.1 MB 3.0 MB/s eta 0:00:06\n",
            "   -------------- ------------------------- 10.5/28.1 MB 3.1 MB/s eta 0:00:06\n",
            "   --------------- ------------------------ 10.7/28.1 MB 3.1 MB/s eta 0:00:06\n",
            "   --------------- ------------------------ 10.9/28.1 MB 3.1 MB/s eta 0:00:06\n",
            "   --------------- ------------------------ 10.9/28.1 MB 3.1 MB/s eta 0:00:06\n",
            "   --------------- ------------------------ 11.1/28.1 MB 3.1 MB/s eta 0:00:06\n",
            "   ---------------- ----------------------- 11.3/28.1 MB 3.1 MB/s eta 0:00:06\n",
            "   ---------------- ----------------------- 11.6/28.1 MB 3.1 MB/s eta 0:00:06\n",
            "   ---------------- ----------------------- 11.7/28.1 MB 3.1 MB/s eta 0:00:06\n",
            "   ----------------- ---------------------- 12.0/28.1 MB 3.1 MB/s eta 0:00:06\n",
            "   ----------------- ---------------------- 12.2/28.1 MB 3.1 MB/s eta 0:00:06\n",
            "   ----------------- ---------------------- 12.4/28.1 MB 3.1 MB/s eta 0:00:06\n",
            "   ----------------- ---------------------- 12.6/28.1 MB 3.1 MB/s eta 0:00:05\n",
            "   ------------------ --------------------- 12.8/28.1 MB 3.1 MB/s eta 0:00:05\n",
            "   ------------------ --------------------- 12.9/28.1 MB 3.2 MB/s eta 0:00:05\n",
            "   ------------------ --------------------- 13.1/28.1 MB 3.2 MB/s eta 0:00:05\n",
            "   ------------------ --------------------- 13.3/28.1 MB 3.2 MB/s eta 0:00:05\n",
            "   ------------------- -------------------- 13.5/28.1 MB 3.2 MB/s eta 0:00:05\n",
            "   ------------------- -------------------- 13.6/28.1 MB 3.2 MB/s eta 0:00:05\n",
            "   ------------------- -------------------- 13.9/28.1 MB 3.2 MB/s eta 0:00:05\n",
            "   -------------------- ------------------- 14.2/28.1 MB 3.3 MB/s eta 0:00:05\n",
            "   -------------------- ------------------- 14.3/28.1 MB 3.3 MB/s eta 0:00:05\n",
            "   -------------------- ------------------- 14.5/28.1 MB 3.3 MB/s eta 0:00:05\n",
            "   -------------------- ------------------- 14.6/28.1 MB 3.3 MB/s eta 0:00:05\n",
            "   -------------------- ------------------- 14.6/28.1 MB 3.2 MB/s eta 0:00:05\n",
            "   --------------------- ------------------ 14.8/28.1 MB 3.2 MB/s eta 0:00:05\n",
            "   --------------------- ------------------ 14.9/28.1 MB 3.2 MB/s eta 0:00:05\n",
            "   --------------------- ------------------ 15.1/28.1 MB 3.2 MB/s eta 0:00:05\n",
            "   --------------------- ------------------ 15.3/28.1 MB 3.3 MB/s eta 0:00:04\n",
            "   ---------------------- ----------------- 15.5/28.1 MB 3.3 MB/s eta 0:00:04\n",
            "   ---------------------- ----------------- 15.7/28.1 MB 3.3 MB/s eta 0:00:04\n",
            "   ---------------------- ----------------- 16.0/28.1 MB 3.4 MB/s eta 0:00:04\n",
            "   ---------------------- ----------------- 16.1/28.1 MB 3.4 MB/s eta 0:00:04\n",
            "   ----------------------- ---------------- 16.4/28.1 MB 3.5 MB/s eta 0:00:04\n",
            "   ----------------------- ---------------- 16.5/28.1 MB 3.6 MB/s eta 0:00:04\n",
            "   ----------------------- ---------------- 16.7/28.1 MB 3.5 MB/s eta 0:00:04\n",
            "   ----------------------- ---------------- 16.8/28.1 MB 3.5 MB/s eta 0:00:04\n",
            "   ------------------------ --------------- 17.0/28.1 MB 3.5 MB/s eta 0:00:04\n",
            "   ------------------------ --------------- 17.0/28.1 MB 3.5 MB/s eta 0:00:04\n",
            "   ------------------------ --------------- 17.0/28.1 MB 3.5 MB/s eta 0:00:04\n",
            "   ------------------------ --------------- 17.4/28.1 MB 3.5 MB/s eta 0:00:04\n",
            "   ------------------------ --------------- 17.5/28.1 MB 3.5 MB/s eta 0:00:04\n",
            "   ------------------------- -------------- 17.7/28.1 MB 3.5 MB/s eta 0:00:03\n",
            "   ------------------------- -------------- 17.8/28.1 MB 3.5 MB/s eta 0:00:03\n",
            "   ------------------------- -------------- 17.9/28.1 MB 3.5 MB/s eta 0:00:03\n",
            "   ------------------------- -------------- 18.0/28.1 MB 3.5 MB/s eta 0:00:03\n",
            "   ------------------------- -------------- 18.2/28.1 MB 3.4 MB/s eta 0:00:03\n",
            "   -------------------------- ------------- 18.4/28.1 MB 3.5 MB/s eta 0:00:03\n",
            "   -------------------------- ------------- 18.5/28.1 MB 3.5 MB/s eta 0:00:03\n",
            "   -------------------------- ------------- 18.8/28.1 MB 3.5 MB/s eta 0:00:03\n",
            "   -------------------------- ------------- 18.8/28.1 MB 3.5 MB/s eta 0:00:03\n",
            "   -------------------------- ------------- 19.0/28.1 MB 3.5 MB/s eta 0:00:03\n",
            "   --------------------------- ------------ 19.1/28.1 MB 3.4 MB/s eta 0:00:03\n",
            "   --------------------------- ------------ 19.2/28.1 MB 3.4 MB/s eta 0:00:03\n",
            "   --------------------------- ------------ 19.3/28.1 MB 3.4 MB/s eta 0:00:03\n",
            "   --------------------------- ------------ 19.4/28.1 MB 3.4 MB/s eta 0:00:03\n",
            "   --------------------------- ------------ 19.5/28.1 MB 3.4 MB/s eta 0:00:03\n",
            "   ---------------------------- ----------- 19.8/28.1 MB 3.5 MB/s eta 0:00:03\n",
            "   ---------------------------- ----------- 19.9/28.1 MB 3.5 MB/s eta 0:00:03\n",
            "   ---------------------------- ----------- 20.0/28.1 MB 3.5 MB/s eta 0:00:03\n",
            "   ---------------------------- ----------- 20.1/28.1 MB 3.5 MB/s eta 0:00:03\n",
            "   ---------------------------- ----------- 20.2/28.1 MB 3.5 MB/s eta 0:00:03\n",
            "   ----------------------------- ---------- 20.4/28.1 MB 3.5 MB/s eta 0:00:03\n",
            "   ----------------------------- ---------- 20.4/28.1 MB 3.5 MB/s eta 0:00:03\n",
            "   ----------------------------- ---------- 20.6/28.1 MB 3.4 MB/s eta 0:00:03\n",
            "   ----------------------------- ---------- 20.8/28.1 MB 3.4 MB/s eta 0:00:03\n",
            "   ----------------------------- ---------- 21.0/28.1 MB 3.4 MB/s eta 0:00:03\n",
            "   ------------------------------ --------- 21.1/28.1 MB 3.5 MB/s eta 0:00:03\n",
            "   ------------------------------ --------- 21.4/28.1 MB 3.5 MB/s eta 0:00:02\n",
            "   ------------------------------ --------- 21.4/28.1 MB 3.5 MB/s eta 0:00:02\n",
            "   ------------------------------ --------- 21.6/28.1 MB 3.4 MB/s eta 0:00:02\n",
            "   ------------------------------- -------- 21.8/28.1 MB 3.4 MB/s eta 0:00:02\n",
            "   ------------------------------- -------- 22.0/28.1 MB 3.4 MB/s eta 0:00:02\n",
            "   ------------------------------- -------- 22.2/28.1 MB 3.4 MB/s eta 0:00:02\n",
            "   ------------------------------- -------- 22.4/28.1 MB 3.4 MB/s eta 0:00:02\n",
            "   -------------------------------- ------- 22.6/28.1 MB 3.4 MB/s eta 0:00:02\n",
            "   -------------------------------- ------- 22.6/28.1 MB 3.4 MB/s eta 0:00:02\n",
            "   -------------------------------- ------- 22.7/28.1 MB 3.4 MB/s eta 0:00:02\n",
            "   -------------------------------- ------- 22.8/28.1 MB 3.3 MB/s eta 0:00:02\n",
            "   -------------------------------- ------- 22.9/28.1 MB 3.3 MB/s eta 0:00:02\n",
            "   -------------------------------- ------- 23.1/28.1 MB 3.3 MB/s eta 0:00:02\n",
            "   --------------------------------- ------ 23.2/28.1 MB 3.3 MB/s eta 0:00:02\n",
            "   --------------------------------- ------ 23.4/28.1 MB 3.3 MB/s eta 0:00:02\n",
            "   --------------------------------- ------ 23.6/28.1 MB 3.3 MB/s eta 0:00:02\n",
            "   --------------------------------- ------ 23.8/28.1 MB 3.3 MB/s eta 0:00:02\n",
            "   ---------------------------------- ----- 24.0/28.1 MB 3.3 MB/s eta 0:00:02\n",
            "   ---------------------------------- ----- 24.2/28.1 MB 3.3 MB/s eta 0:00:02\n",
            "   ---------------------------------- ----- 24.4/28.1 MB 3.3 MB/s eta 0:00:02\n",
            "   ----------------------------------- ---- 24.6/28.1 MB 3.3 MB/s eta 0:00:02\n",
            "   ----------------------------------- ---- 24.8/28.1 MB 3.4 MB/s eta 0:00:01\n",
            "   ----------------------------------- ---- 25.0/28.1 MB 3.4 MB/s eta 0:00:01\n",
            "   ----------------------------------- ---- 25.3/28.1 MB 3.4 MB/s eta 0:00:01\n",
            "   ------------------------------------ --- 25.5/28.1 MB 3.4 MB/s eta 0:00:01\n",
            "   ------------------------------------ --- 25.7/28.1 MB 3.4 MB/s eta 0:00:01\n",
            "   ------------------------------------ --- 25.8/28.1 MB 3.4 MB/s eta 0:00:01\n",
            "   ------------------------------------- -- 26.1/28.1 MB 3.4 MB/s eta 0:00:01\n",
            "   ------------------------------------- -- 26.2/28.1 MB 3.4 MB/s eta 0:00:01\n",
            "   ------------------------------------- -- 26.4/28.1 MB 3.4 MB/s eta 0:00:01\n",
            "   ------------------------------------- -- 26.5/28.1 MB 3.4 MB/s eta 0:00:01\n",
            "   ------------------------------------- -- 26.6/28.1 MB 3.3 MB/s eta 0:00:01\n",
            "   -------------------------------------- - 26.8/28.1 MB 3.3 MB/s eta 0:00:01\n",
            "   -------------------------------------- - 27.0/28.1 MB 3.4 MB/s eta 0:00:01\n",
            "   -------------------------------------- - 27.1/28.1 MB 3.4 MB/s eta 0:00:01\n",
            "   -------------------------------------- - 27.2/28.1 MB 3.3 MB/s eta 0:00:01\n",
            "   -------------------------------------- - 27.4/28.1 MB 3.4 MB/s eta 0:00:01\n",
            "   ---------------------------------------  27.5/28.1 MB 3.4 MB/s eta 0:00:01\n",
            "   ---------------------------------------  27.7/28.1 MB 3.3 MB/s eta 0:00:01\n",
            "   ---------------------------------------  27.9/28.1 MB 3.4 MB/s eta 0:00:01\n",
            "   ---------------------------------------  28.1/28.1 MB 3.4 MB/s eta 0:00:01\n",
            "   ---------------------------------------- 28.1/28.1 MB 3.4 MB/s eta 0:00:00\n",
            "Installing collected packages: slicer, llvmlite, cloudpickle, numba, shap\n",
            "Successfully installed cloudpickle-3.0.0 llvmlite-0.43.0 numba-0.60.0 shap-0.46.0 slicer-0.0.8\n",
            "\n"
          ]
        },
        {
          "name": "stderr",
          "output_type": "stream",
          "text": [
            "\n",
            "[notice] A new release of pip is available: 24.0 -> 24.1\n",
            "[notice] To update, run: python.exe -m pip install --upgrade pip\n"
          ]
        }
      ],
      "source": [
        "#pip install shap"
      ]
    },
    {
      "cell_type": "code",
      "execution_count": 68,
      "metadata": {},
      "outputs": [
        {
          "name": "stdout",
          "output_type": "stream",
          "text": [
            "['longitude', 'latitude', 'housing_median_age', 'total_rooms', 'total_bedrooms', 'population', 'households', 'median_income']\n"
          ]
        },
        {
          "data": {
            "image/png": "[encoded data removed]",
            "text/plain": [
              "<Figure size 800x470 with 2 Axes>"
            ]
          },
          "metadata": {},
          "output_type": "display_data"
        }
      ],
      "source": [
        "import shap\n",
        "import matplotlib.pyplot as plt\n",
        "import xgboost  # Make sure xgboost is imported\n",
        "\n",
        "# Get feature names from the trained model\n",
        "feature_names = xgbReg.get_booster().feature_names\n",
        "print(feature_names) \n",
        "\n",
        "# Choose the feature for analysis (use one variable, not two)\n",
        "feature_to_analyze = 'median_income'  \n",
        "\n",
        "# Create a TreeExplainer \n",
        "explainer = shap.TreeExplainer(xgbReg)\n",
        "\n",
        "# Calculate SHAP values\n",
        "shap_values = explainer.shap_values(X_new)\n",
        "\n",
        "# Summary Plot\n",
        "shap.summary_plot(shap_values, X_new, feature_names=feature_names)\n",
        "\n",
        "plt.show() "
      ]
    },
    {
      "cell_type": "code",
      "execution_count": 69,
      "metadata": {},
      "outputs": [
        {
          "data": {
            "image/png": "[encoded data removed]",
            "text/plain": [
              "<Figure size 750x500 with 2 Axes>"
            ]
          },
          "metadata": {},
          "output_type": "display_data"
        }
      ],
      "source": [
        "# Dependence Plot\n",
        "shap.dependence_plot(feature_to_analyze, shap_values, X_new, \n",
        "                     feature_names=feature_names) \n",
        "\n",
        "\n",
        "plt.show() "
      ]
    },
    {
      "cell_type": "code",
      "execution_count": 70,
      "metadata": {},
      "outputs": [
        {
          "data": {
            "image/png": "[encoded data removed]",
            "text/plain": [
              "<Figure size 800x550 with 3 Axes>"
            ]
          },
          "metadata": {},
          "output_type": "display_data"
        }
      ],
      "source": [
        "\n",
        "# Waterfall Plot (Corrected)\n",
        "# Create an Explanation object for the first instance in X_new\n",
        "explanation = shap.Explanation(values=shap_values[0], \n",
        "                             base_values=explainer.expected_value,\n",
        "                             data=X_new.iloc[0],  \n",
        "                             feature_names=feature_names)\n",
        "\n",
        "shap.plots.waterfall(explanation)  # Pass the Explanation object\n",
        "plt.show()"
      ]
    }
  ],
  "metadata": {
    "colab": {
      "provenance": []
    },
    "kernelspec": {
      "display_name": "Python 3",
      "name": "python3"
    },
    "language_info": {
      "codemirror_mode": {
        "name": "ipython",
        "version": 3
      },
      "file_extension": ".py",
      "mimetype": "text/x-python",
      "name": "python",
      "nbconvert_exporter": "python",
      "pygments_lexer": "ipython3",
      "version": "3.12.1"
    }
  },
  "nbformat": 4,
  "nbformat_minor": 0
}
